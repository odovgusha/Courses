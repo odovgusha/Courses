{
 "cells": [
  {
   "cell_type": "code",
   "execution_count": 1,
   "metadata": {},
   "outputs": [],
   "source": [
    "import json\n",
    "import os\n",
    "import re"
   ]
  },
  {
   "cell_type": "code",
   "execution_count": 2,
   "metadata": {},
   "outputs": [],
   "source": [
    "track_type = \"bw\""
   ]
  },
  {
   "cell_type": "code",
   "execution_count": 3,
   "metadata": {},
   "outputs": [
    {
     "name": "stdout",
     "output_type": "stream",
     "text": [
      "HisC-4h_nfr_100_merged\n",
      "HisC-5h_nfr_100_merged\n",
      "HisC-6h_nfr_100_merged\n",
      "HisC-7h_nfr_100_merged\n",
      "w-4h_nfr_100_merged\n",
      "w-5h_nfr_100_merged\n",
      "w-6h_nfr_100_merged\n",
      "w-7h_nfr_100_merged\n"
     ]
    }
   ],
   "source": [
    "sep = \".\" + track_type\n",
    "sample_names = list()\n",
    "full_file_names = list() \n",
    "for file in os.listdir(\"nfr_100/\"):\n",
    "    if file.endswith(\".bw\"):\n",
    "        #print(os.path.join( file.split(sep, 1)[0]))\n",
    "        print(file.split(sep, 1)[0])\n",
    "        sample_names.append(file.split(sep, 1)[0])\n",
    "        full_file_names.append(file)"
   ]
  },
  {
   "cell_type": "code",
   "execution_count": 4,
   "metadata": {},
   "outputs": [
    {
     "data": {
      "text/plain": [
       "['HisC-4h_nfr_100_merged',\n",
       " 'HisC-5h_nfr_100_merged',\n",
       " 'HisC-6h_nfr_100_merged',\n",
       " 'HisC-7h_nfr_100_merged',\n",
       " 'w-4h_nfr_100_merged',\n",
       " 'w-5h_nfr_100_merged',\n",
       " 'w-6h_nfr_100_merged',\n",
       " 'w-7h_nfr_100_merged']"
      ]
     },
     "execution_count": 4,
     "metadata": {},
     "output_type": "execute_result"
    }
   ],
   "source": [
    "sample_names"
   ]
  },
  {
   "cell_type": "code",
   "execution_count": 5,
   "metadata": {},
   "outputs": [
    {
     "data": {
      "text/plain": [
       "['HisC-4h_nfr_100_merged.bw',\n",
       " 'HisC-5h_nfr_100_merged.bw',\n",
       " 'HisC-6h_nfr_100_merged.bw',\n",
       " 'HisC-7h_nfr_100_merged.bw',\n",
       " 'w-4h_nfr_100_merged.bw',\n",
       " 'w-5h_nfr_100_merged.bw',\n",
       " 'w-6h_nfr_100_merged.bw',\n",
       " 'w-7h_nfr_100_merged.bw']"
      ]
     },
     "execution_count": 5,
     "metadata": {},
     "output_type": "execute_result"
    }
   ],
   "source": [
    "full_file_names"
   ]
  },
  {
   "cell_type": "code",
   "execution_count": 7,
   "metadata": {},
   "outputs": [],
   "source": [
    "final_filename = 'nfr_100_merged'\n",
    "url_exp = \"https://ipscspublic.s3.eu-central-1.amazonaws.com/Dominik_dm6/bw\"\n",
    "track_type = track_type\n",
    "if track_type == \"bw\":\n",
    "    track_type = \"bigwig\"\n",
    "    "
   ]
  },
  {
   "cell_type": "code",
   "execution_count": 8,
   "metadata": {},
   "outputs": [],
   "source": [
    "json_data_list = []\n",
    "for i in range(0,len(sample_names)):\n",
    "    track = {\"type\": track_type, \"name\": sample_names[i],\"url\": os.path.join(url_exp,full_file_names[i]),\"options\": {\"color\": \"blue\"}}\n",
    "    #track_dict = json.dumps(track)\n",
    "    json_data_list.append(track)\n",
    "\n",
    "    "
   ]
  },
  {
   "cell_type": "code",
   "execution_count": 9,
   "metadata": {},
   "outputs": [
    {
     "data": {
      "text/plain": [
       "[{'type': 'bigwig',\n",
       "  'name': 'HisC-4h_nfr_100_merged',\n",
       "  'url': 'https://ipscspublic.s3.eu-central-1.amazonaws.com/Dominik_dm6/bw/HisC-4h_nfr_100_merged.bw',\n",
       "  'options': {'color': 'blue'}},\n",
       " {'type': 'bigwig',\n",
       "  'name': 'HisC-5h_nfr_100_merged',\n",
       "  'url': 'https://ipscspublic.s3.eu-central-1.amazonaws.com/Dominik_dm6/bw/HisC-5h_nfr_100_merged.bw',\n",
       "  'options': {'color': 'blue'}},\n",
       " {'type': 'bigwig',\n",
       "  'name': 'HisC-6h_nfr_100_merged',\n",
       "  'url': 'https://ipscspublic.s3.eu-central-1.amazonaws.com/Dominik_dm6/bw/HisC-6h_nfr_100_merged.bw',\n",
       "  'options': {'color': 'blue'}},\n",
       " {'type': 'bigwig',\n",
       "  'name': 'HisC-7h_nfr_100_merged',\n",
       "  'url': 'https://ipscspublic.s3.eu-central-1.amazonaws.com/Dominik_dm6/bw/HisC-7h_nfr_100_merged.bw',\n",
       "  'options': {'color': 'blue'}},\n",
       " {'type': 'bigwig',\n",
       "  'name': 'w-4h_nfr_100_merged',\n",
       "  'url': 'https://ipscspublic.s3.eu-central-1.amazonaws.com/Dominik_dm6/bw/w-4h_nfr_100_merged.bw',\n",
       "  'options': {'color': 'blue'}},\n",
       " {'type': 'bigwig',\n",
       "  'name': 'w-5h_nfr_100_merged',\n",
       "  'url': 'https://ipscspublic.s3.eu-central-1.amazonaws.com/Dominik_dm6/bw/w-5h_nfr_100_merged.bw',\n",
       "  'options': {'color': 'blue'}},\n",
       " {'type': 'bigwig',\n",
       "  'name': 'w-6h_nfr_100_merged',\n",
       "  'url': 'https://ipscspublic.s3.eu-central-1.amazonaws.com/Dominik_dm6/bw/w-6h_nfr_100_merged.bw',\n",
       "  'options': {'color': 'blue'}},\n",
       " {'type': 'bigwig',\n",
       "  'name': 'w-7h_nfr_100_merged',\n",
       "  'url': 'https://ipscspublic.s3.eu-central-1.amazonaws.com/Dominik_dm6/bw/w-7h_nfr_100_merged.bw',\n",
       "  'options': {'color': 'blue'}}]"
      ]
     },
     "execution_count": 9,
     "metadata": {},
     "output_type": "execute_result"
    }
   ],
   "source": [
    "json_data_list"
   ]
  },
  {
   "cell_type": "code",
   "execution_count": 48,
   "metadata": {},
   "outputs": [],
   "source": []
  },
  {
   "cell_type": "code",
   "execution_count": 10,
   "metadata": {},
   "outputs": [],
   "source": [
    "with open(final_filename +'.json', 'w') as outfile:\n",
    "    json.dump(json_data_list, outfile, indent=2)"
   ]
  },
  {
   "cell_type": "code",
   "execution_count": 12,
   "metadata": {},
   "outputs": [
    {
     "data": {
      "text/plain": [
       "[{'type': 'bigwig',\n",
       "  'name': 'HisC-4h_nfr_100_merged',\n",
       "  'url': 'https://ipscspublic.s3.eu-central-1.amazonaws.com/Dominik_dm6/bw/HisC-4h_nfr_100_merged.bw',\n",
       "  'options': {'color': 'blue'}},\n",
       " {'type': 'bigwig',\n",
       "  'name': 'HisC-5h_nfr_100_merged',\n",
       "  'url': 'https://ipscspublic.s3.eu-central-1.amazonaws.com/Dominik_dm6/bw/HisC-5h_nfr_100_merged.bw',\n",
       "  'options': {'color': 'blue'}},\n",
       " {'type': 'bigwig',\n",
       "  'name': 'HisC-6h_nfr_100_merged',\n",
       "  'url': 'https://ipscspublic.s3.eu-central-1.amazonaws.com/Dominik_dm6/bw/HisC-6h_nfr_100_merged.bw',\n",
       "  'options': {'color': 'blue'}},\n",
       " {'type': 'bigwig',\n",
       "  'name': 'HisC-7h_nfr_100_merged',\n",
       "  'url': 'https://ipscspublic.s3.eu-central-1.amazonaws.com/Dominik_dm6/bw/HisC-7h_nfr_100_merged.bw',\n",
       "  'options': {'color': 'blue'}},\n",
       " {'type': 'bigwig',\n",
       "  'name': 'w-4h_nfr_100_merged',\n",
       "  'url': 'https://ipscspublic.s3.eu-central-1.amazonaws.com/Dominik_dm6/bw/w-4h_nfr_100_merged.bw',\n",
       "  'options': {'color': 'blue'}},\n",
       " {'type': 'bigwig',\n",
       "  'name': 'w-5h_nfr_100_merged',\n",
       "  'url': 'https://ipscspublic.s3.eu-central-1.amazonaws.com/Dominik_dm6/bw/w-5h_nfr_100_merged.bw',\n",
       "  'options': {'color': 'blue'}},\n",
       " {'type': 'bigwig',\n",
       "  'name': 'w-6h_nfr_100_merged',\n",
       "  'url': 'https://ipscspublic.s3.eu-central-1.amazonaws.com/Dominik_dm6/bw/w-6h_nfr_100_merged.bw',\n",
       "  'options': {'color': 'blue'}},\n",
       " {'type': 'bigwig',\n",
       "  'name': 'w-7h_nfr_100_merged',\n",
       "  'url': 'https://ipscspublic.s3.eu-central-1.amazonaws.com/Dominik_dm6/bw/w-7h_nfr_100_merged.bw',\n",
       "  'options': {'color': 'blue'}}]"
      ]
     },
     "execution_count": 12,
     "metadata": {},
     "output_type": "execute_result"
    }
   ],
   "source": [
    "json_data_list "
   ]
  },
  {
   "cell_type": "code",
   "execution_count": 43,
   "metadata": {},
   "outputs": [
    {
     "data": {
      "text/plain": [
       "'{\"type\": \"bed\", \"name\": \"w-7h\", \"url\": \"https://ipscspublic.s3.eu-central-1.amazonaws.com/atac_10s_lf/w-7h_merged.bw\", \"options\": {\"color\": \"blue\"}}'"
      ]
     },
     "execution_count": 43,
     "metadata": {},
     "output_type": "execute_result"
    }
   ],
   "source": [
    "track_dict"
   ]
  },
  {
   "cell_type": "code",
   "execution_count": 18,
   "metadata": {},
   "outputs": [],
   "source": [
    "#person = '{\"type\": \"Bob\", \"name\": \"diff_peaks_10s\",\"url\": \"https://ipscspublic.s3.eu-central-1.amazonaws.com/atac_10s_lf/ANOVA_atac_not_in_all.bed.gz\",\"options\": {\"color\": \"blue\"}}'\n",
    "person = {\"type\": \"Bob\", \"name\": \"diff_peaks_10s\",\"url\": \"https://ipscspublic.s3.eu-central-1.amazonaws.com/atac_10s_lf/ANOVA_atac_not_in_all.bed.gz\",\"options\": {\"color\": \"blue\"}}\n",
    "person_dict = json.dumps(person)"
   ]
  },
  {
   "cell_type": "code",
   "execution_count": 19,
   "metadata": {},
   "outputs": [
    {
     "data": {
      "text/plain": [
       "'{\"type\": \"Bob\", \"name\": \"diff_peaks_10s\", \"url\": \"https://ipscspublic.s3.eu-central-1.amazonaws.com/atac_10s_lf/ANOVA_atac_not_in_all.bed.gz\", \"options\": {\"color\": \"blue\"}}'"
      ]
     },
     "execution_count": 19,
     "metadata": {},
     "output_type": "execute_result"
    }
   ],
   "source": [
    "person_dict"
   ]
  },
  {
   "cell_type": "code",
   "execution_count": 16,
   "metadata": {},
   "outputs": [
    {
     "data": {
      "text/plain": [
       "str"
      ]
     },
     "execution_count": 16,
     "metadata": {},
     "output_type": "execute_result"
    }
   ],
   "source": [
    "type(person)"
   ]
  },
  {
   "cell_type": "code",
   "execution_count": 13,
   "metadata": {},
   "outputs": [
    {
     "data": {
      "text/plain": [
       "{'type': 'Bob',\n",
       " 'name': 'diff_peaks_10s',\n",
       " 'url': 'https://ipscspublic.s3.eu-central-1.amazonaws.com/atac_10s_lf/ANOVA_atac_not_in_all.bed.gz',\n",
       " 'options': {'color': 'blue'}}"
      ]
     },
     "execution_count": 13,
     "metadata": {},
     "output_type": "execute_result"
    }
   ],
   "source": [
    "person_dict"
   ]
  }
 ],
 "metadata": {
  "kernelspec": {
   "display_name": "Python 3",
   "language": "python",
   "name": "python3"
  },
  "language_info": {
   "codemirror_mode": {
    "name": "ipython",
    "version": 3
   },
   "file_extension": ".py",
   "mimetype": "text/x-python",
   "name": "python",
   "nbconvert_exporter": "python",
   "pygments_lexer": "ipython3",
   "version": "3.8.2"
  }
 },
 "nbformat": 4,
 "nbformat_minor": 4
}
