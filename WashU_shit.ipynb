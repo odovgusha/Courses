{
 "cells": [
  {
   "cell_type": "code",
   "execution_count": 1,
   "metadata": {},
   "outputs": [],
   "source": [
    "import json\n",
    "import os\n",
    "import re"
   ]
  },
  {
   "cell_type": "code",
   "execution_count": 2,
   "metadata": {},
   "outputs": [],
   "source": [
    "track_type = \"bed\""
   ]
  },
  {
   "cell_type": "code",
   "execution_count": 3,
   "metadata": {},
   "outputs": [
    {
     "name": "stdout",
     "output_type": "stream",
     "text": [
      "consensus_peaks_H2B-H5\n",
      "consensus_peaks_H2B-H6\n",
      "consensus_peaks_H2B-w5\n",
      "consensus_peaks_H2B-w6\n",
      "consensus_peaks_H3-3-H5\n",
      "consensus_peaks_H3-3-H6\n",
      "consensus_peaks_H3-3-w5\n",
      "consensus_peaks_H3-3-w6\n",
      "consensus_peaks_H3-H5\n",
      "consensus_peaks_H3-H6\n",
      "consensus_peaks_H3-w5\n",
      "consensus_peaks_H3-w6\n",
      "consensus_peaks_k4me3-H5\n",
      "consensus_peaks_k4me3-H6\n",
      "consensus_peaks_k4me3-w5\n",
      "consensus_peaks_k4me3-w6\n",
      "consensus_peaks_k9me3-H5\n",
      "consensus_peaks_k9me3-H6\n",
      "consensus_peaks_k9me3-w5\n",
      "consensus_peaks_k9me3-w6\n"
     ]
    }
   ],
   "source": [
    "sep = \".\" + track_type\n",
    "sample_names = list()\n",
    "full_file_names = list() \n",
    "dest = \"/mnt/c/Users/dovgu/Documents/washu/cut_tag_cons\"\n",
    "for file in os.listdir(dest):\n",
    "    if file.endswith(\".bed.gz\"):\n",
    "        #print(os.path.join( file.split(sep, 1)[0]))\n",
    "        print(file.split(sep, 1)[0])\n",
    "        sample_names.append(file.split(sep, 1)[0])\n",
    "        full_file_names.append(file)"
   ]
  },
  {
   "cell_type": "code",
   "execution_count": 4,
   "metadata": {},
   "outputs": [
    {
     "data": {
      "text/plain": [
       "['consensus_peaks_H2B-H5',\n",
       " 'consensus_peaks_H2B-H6',\n",
       " 'consensus_peaks_H2B-w5',\n",
       " 'consensus_peaks_H2B-w6',\n",
       " 'consensus_peaks_H3-3-H5',\n",
       " 'consensus_peaks_H3-3-H6',\n",
       " 'consensus_peaks_H3-3-w5',\n",
       " 'consensus_peaks_H3-3-w6',\n",
       " 'consensus_peaks_H3-H5',\n",
       " 'consensus_peaks_H3-H6',\n",
       " 'consensus_peaks_H3-w5',\n",
       " 'consensus_peaks_H3-w6',\n",
       " 'consensus_peaks_k4me3-H5',\n",
       " 'consensus_peaks_k4me3-H6',\n",
       " 'consensus_peaks_k4me3-w5',\n",
       " 'consensus_peaks_k4me3-w6',\n",
       " 'consensus_peaks_k9me3-H5',\n",
       " 'consensus_peaks_k9me3-H6',\n",
       " 'consensus_peaks_k9me3-w5',\n",
       " 'consensus_peaks_k9me3-w6']"
      ]
     },
     "execution_count": 4,
     "metadata": {},
     "output_type": "execute_result"
    }
   ],
   "source": [
    "sample_names"
   ]
  },
  {
   "cell_type": "code",
   "execution_count": 6,
   "metadata": {},
   "outputs": [
    {
     "data": {
      "text/plain": [
       "['Bima1_blck_lst_filt_prom.bed.gz',\n",
       " 'Kolf2_blck_lst_filt_prom.bed.gz',\n",
       " 'Kolf3_blck_lst_filt_prom.bed.gz',\n",
       " 'Kucg2_blck_lst_filt_prom.bed.gz',\n",
       " 'Letw5_blck_lst_filt_prom.bed.gz',\n",
       " 'Podx1_blck_lst_filt_prom.bed.gz',\n",
       " 'Qolg1_blck_lst_filt_prom.bed.gz',\n",
       " 'Sojd3_blck_lst_filt_prom.bed.gz',\n",
       " 'Wibj2_blck_lst_filt_prom.bed.gz']"
      ]
     },
     "execution_count": 6,
     "metadata": {},
     "output_type": "execute_result"
    }
   ],
   "source": [
    "full_file_names"
   ]
  },
  {
   "cell_type": "code",
   "execution_count": 5,
   "metadata": {},
   "outputs": [],
   "source": [
    "final_filename = 'bl_regions'\n",
    "url_exp = \"https://ipscspublic.s3.eu-central-1.amazonaws.com/bl_regions_atac\"\n",
    "track_type = track_type\n",
    "if track_type == \"bw\":\n",
    "    track_type = \"bigwig\"\n",
    "    "
   ]
  },
  {
   "cell_type": "code",
   "execution_count": 6,
   "metadata": {},
   "outputs": [],
   "source": [
    "json_data_list = []\n",
    "for i in range(0,len(sample_names)):\n",
    "    track = {\"type\": track_type, \"name\": sample_names[i],\"url\": os.path.join(url_exp,full_file_names[i]),\"options\": {\"color\": \"blue\"}}\n",
    "    #track_dict = json.dumps(track)\n",
    "    json_data_list.append(track)\n",
    "\n",
    "    "
   ]
  },
  {
   "cell_type": "code",
   "execution_count": 7,
   "metadata": {},
   "outputs": [
    {
     "data": {
      "text/plain": [
       "[{'type': 'bed',\n",
       "  'name': 'consensus_peaks_H2B-H5',\n",
       "  'url': 'https://ipscspublic.s3.eu-central-1.amazonaws.com/bl_regions_atac/consensus_peaks_H2B-H5.bed.gz',\n",
       "  'options': {'color': 'blue'}},\n",
       " {'type': 'bed',\n",
       "  'name': 'consensus_peaks_H2B-H6',\n",
       "  'url': 'https://ipscspublic.s3.eu-central-1.amazonaws.com/bl_regions_atac/consensus_peaks_H2B-H6.bed.gz',\n",
       "  'options': {'color': 'blue'}},\n",
       " {'type': 'bed',\n",
       "  'name': 'consensus_peaks_H2B-w5',\n",
       "  'url': 'https://ipscspublic.s3.eu-central-1.amazonaws.com/bl_regions_atac/consensus_peaks_H2B-w5.bed.gz',\n",
       "  'options': {'color': 'blue'}},\n",
       " {'type': 'bed',\n",
       "  'name': 'consensus_peaks_H2B-w6',\n",
       "  'url': 'https://ipscspublic.s3.eu-central-1.amazonaws.com/bl_regions_atac/consensus_peaks_H2B-w6.bed.gz',\n",
       "  'options': {'color': 'blue'}},\n",
       " {'type': 'bed',\n",
       "  'name': 'consensus_peaks_H3-3-H5',\n",
       "  'url': 'https://ipscspublic.s3.eu-central-1.amazonaws.com/bl_regions_atac/consensus_peaks_H3-3-H5.bed.gz',\n",
       "  'options': {'color': 'blue'}},\n",
       " {'type': 'bed',\n",
       "  'name': 'consensus_peaks_H3-3-H6',\n",
       "  'url': 'https://ipscspublic.s3.eu-central-1.amazonaws.com/bl_regions_atac/consensus_peaks_H3-3-H6.bed.gz',\n",
       "  'options': {'color': 'blue'}},\n",
       " {'type': 'bed',\n",
       "  'name': 'consensus_peaks_H3-3-w5',\n",
       "  'url': 'https://ipscspublic.s3.eu-central-1.amazonaws.com/bl_regions_atac/consensus_peaks_H3-3-w5.bed.gz',\n",
       "  'options': {'color': 'blue'}},\n",
       " {'type': 'bed',\n",
       "  'name': 'consensus_peaks_H3-3-w6',\n",
       "  'url': 'https://ipscspublic.s3.eu-central-1.amazonaws.com/bl_regions_atac/consensus_peaks_H3-3-w6.bed.gz',\n",
       "  'options': {'color': 'blue'}},\n",
       " {'type': 'bed',\n",
       "  'name': 'consensus_peaks_H3-H5',\n",
       "  'url': 'https://ipscspublic.s3.eu-central-1.amazonaws.com/bl_regions_atac/consensus_peaks_H3-H5.bed.gz',\n",
       "  'options': {'color': 'blue'}},\n",
       " {'type': 'bed',\n",
       "  'name': 'consensus_peaks_H3-H6',\n",
       "  'url': 'https://ipscspublic.s3.eu-central-1.amazonaws.com/bl_regions_atac/consensus_peaks_H3-H6.bed.gz',\n",
       "  'options': {'color': 'blue'}},\n",
       " {'type': 'bed',\n",
       "  'name': 'consensus_peaks_H3-w5',\n",
       "  'url': 'https://ipscspublic.s3.eu-central-1.amazonaws.com/bl_regions_atac/consensus_peaks_H3-w5.bed.gz',\n",
       "  'options': {'color': 'blue'}},\n",
       " {'type': 'bed',\n",
       "  'name': 'consensus_peaks_H3-w6',\n",
       "  'url': 'https://ipscspublic.s3.eu-central-1.amazonaws.com/bl_regions_atac/consensus_peaks_H3-w6.bed.gz',\n",
       "  'options': {'color': 'blue'}},\n",
       " {'type': 'bed',\n",
       "  'name': 'consensus_peaks_k4me3-H5',\n",
       "  'url': 'https://ipscspublic.s3.eu-central-1.amazonaws.com/bl_regions_atac/consensus_peaks_k4me3-H5.bed.gz',\n",
       "  'options': {'color': 'blue'}},\n",
       " {'type': 'bed',\n",
       "  'name': 'consensus_peaks_k4me3-H6',\n",
       "  'url': 'https://ipscspublic.s3.eu-central-1.amazonaws.com/bl_regions_atac/consensus_peaks_k4me3-H6.bed.gz',\n",
       "  'options': {'color': 'blue'}},\n",
       " {'type': 'bed',\n",
       "  'name': 'consensus_peaks_k4me3-w5',\n",
       "  'url': 'https://ipscspublic.s3.eu-central-1.amazonaws.com/bl_regions_atac/consensus_peaks_k4me3-w5.bed.gz',\n",
       "  'options': {'color': 'blue'}},\n",
       " {'type': 'bed',\n",
       "  'name': 'consensus_peaks_k4me3-w6',\n",
       "  'url': 'https://ipscspublic.s3.eu-central-1.amazonaws.com/bl_regions_atac/consensus_peaks_k4me3-w6.bed.gz',\n",
       "  'options': {'color': 'blue'}},\n",
       " {'type': 'bed',\n",
       "  'name': 'consensus_peaks_k9me3-H5',\n",
       "  'url': 'https://ipscspublic.s3.eu-central-1.amazonaws.com/bl_regions_atac/consensus_peaks_k9me3-H5.bed.gz',\n",
       "  'options': {'color': 'blue'}},\n",
       " {'type': 'bed',\n",
       "  'name': 'consensus_peaks_k9me3-H6',\n",
       "  'url': 'https://ipscspublic.s3.eu-central-1.amazonaws.com/bl_regions_atac/consensus_peaks_k9me3-H6.bed.gz',\n",
       "  'options': {'color': 'blue'}},\n",
       " {'type': 'bed',\n",
       "  'name': 'consensus_peaks_k9me3-w5',\n",
       "  'url': 'https://ipscspublic.s3.eu-central-1.amazonaws.com/bl_regions_atac/consensus_peaks_k9me3-w5.bed.gz',\n",
       "  'options': {'color': 'blue'}},\n",
       " {'type': 'bed',\n",
       "  'name': 'consensus_peaks_k9me3-w6',\n",
       "  'url': 'https://ipscspublic.s3.eu-central-1.amazonaws.com/bl_regions_atac/consensus_peaks_k9me3-w6.bed.gz',\n",
       "  'options': {'color': 'blue'}}]"
      ]
     },
     "execution_count": 7,
     "metadata": {},
     "output_type": "execute_result"
    }
   ],
   "source": [
    "json_data_list"
   ]
  },
  {
   "cell_type": "code",
   "execution_count": 10,
   "metadata": {},
   "outputs": [
    {
     "data": {
      "text/plain": [
       "'bl_regions'"
      ]
     },
     "execution_count": 10,
     "metadata": {},
     "output_type": "execute_result"
    }
   ],
   "source": [
    "final_filename"
   ]
  },
  {
   "cell_type": "code",
   "execution_count": 8,
   "metadata": {},
   "outputs": [],
   "source": [
    "with open(dest+ \"/\" + final_filename +'.json', 'w') as outfile:\n",
    "    json.dump(json_data_list, outfile, indent=2)"
   ]
  },
  {
   "cell_type": "code",
   "execution_count": 16,
   "metadata": {},
   "outputs": [
    {
     "data": {
      "text/plain": [
       "[{'type': 'bed',\n",
       "  'name': 'Bima1_blck_lst_filt_prom',\n",
       "  'url': 'https://ipscspublic.s3.eu-central-1.amazonaws.com/bl_regions_atac/Bima1_blck_lst_filt_prom.bed.gz',\n",
       "  'options': {'color': 'blue'}},\n",
       " {'type': 'bed',\n",
       "  'name': 'Kolf2_blck_lst_filt_prom',\n",
       "  'url': 'https://ipscspublic.s3.eu-central-1.amazonaws.com/bl_regions_atac/Kolf2_blck_lst_filt_prom.bed.gz',\n",
       "  'options': {'color': 'blue'}},\n",
       " {'type': 'bed',\n",
       "  'name': 'Kolf3_blck_lst_filt_prom',\n",
       "  'url': 'https://ipscspublic.s3.eu-central-1.amazonaws.com/bl_regions_atac/Kolf3_blck_lst_filt_prom.bed.gz',\n",
       "  'options': {'color': 'blue'}},\n",
       " {'type': 'bed',\n",
       "  'name': 'Kucg2_blck_lst_filt_prom',\n",
       "  'url': 'https://ipscspublic.s3.eu-central-1.amazonaws.com/bl_regions_atac/Kucg2_blck_lst_filt_prom.bed.gz',\n",
       "  'options': {'color': 'blue'}},\n",
       " {'type': 'bed',\n",
       "  'name': 'Letw5_blck_lst_filt_prom',\n",
       "  'url': 'https://ipscspublic.s3.eu-central-1.amazonaws.com/bl_regions_atac/Letw5_blck_lst_filt_prom.bed.gz',\n",
       "  'options': {'color': 'blue'}},\n",
       " {'type': 'bed',\n",
       "  'name': 'Podx1_blck_lst_filt_prom',\n",
       "  'url': 'https://ipscspublic.s3.eu-central-1.amazonaws.com/bl_regions_atac/Podx1_blck_lst_filt_prom.bed.gz',\n",
       "  'options': {'color': 'blue'}},\n",
       " {'type': 'bed',\n",
       "  'name': 'Qolg1_blck_lst_filt_prom',\n",
       "  'url': 'https://ipscspublic.s3.eu-central-1.amazonaws.com/bl_regions_atac/Qolg1_blck_lst_filt_prom.bed.gz',\n",
       "  'options': {'color': 'blue'}},\n",
       " {'type': 'bed',\n",
       "  'name': 'Sojd3_blck_lst_filt_prom',\n",
       "  'url': 'https://ipscspublic.s3.eu-central-1.amazonaws.com/bl_regions_atac/Sojd3_blck_lst_filt_prom.bed.gz',\n",
       "  'options': {'color': 'blue'}},\n",
       " {'type': 'bed',\n",
       "  'name': 'Wibj2_blck_lst_filt_prom',\n",
       "  'url': 'https://ipscspublic.s3.eu-central-1.amazonaws.com/bl_regions_atac/Wibj2_blck_lst_filt_prom.bed.gz',\n",
       "  'options': {'color': 'blue'}}]"
      ]
     },
     "execution_count": 16,
     "metadata": {},
     "output_type": "execute_result"
    }
   ],
   "source": [
    "json_data_list "
   ]
  },
  {
   "cell_type": "code",
   "execution_count": 43,
   "metadata": {},
   "outputs": [
    {
     "data": {
      "text/plain": [
       "'{\"type\": \"bed\", \"name\": \"w-7h\", \"url\": \"https://ipscspublic.s3.eu-central-1.amazonaws.com/atac_10s_lf/w-7h_merged.bw\", \"options\": {\"color\": \"blue\"}}'"
      ]
     },
     "execution_count": 43,
     "metadata": {},
     "output_type": "execute_result"
    }
   ],
   "source": [
    "track_dict"
   ]
  },
  {
   "cell_type": "code",
   "execution_count": 18,
   "metadata": {},
   "outputs": [],
   "source": [
    "#person = '{\"type\": \"Bob\", \"name\": \"diff_peaks_10s\",\"url\": \"https://ipscspublic.s3.eu-central-1.amazonaws.com/atac_10s_lf/ANOVA_atac_not_in_all.bed.gz\",\"options\": {\"color\": \"blue\"}}'\n",
    "person = {\"type\": \"Bob\", \"name\": \"diff_peaks_10s\",\"url\": \"https://ipscspublic.s3.eu-central-1.amazonaws.com/atac_10s_lf/ANOVA_atac_not_in_all.bed.gz\",\"options\": {\"color\": \"blue\"}}\n",
    "person_dict = json.dumps(person)"
   ]
  },
  {
   "cell_type": "code",
   "execution_count": 19,
   "metadata": {},
   "outputs": [
    {
     "data": {
      "text/plain": [
       "'{\"type\": \"Bob\", \"name\": \"diff_peaks_10s\", \"url\": \"https://ipscspublic.s3.eu-central-1.amazonaws.com/atac_10s_lf/ANOVA_atac_not_in_all.bed.gz\", \"options\": {\"color\": \"blue\"}}'"
      ]
     },
     "execution_count": 19,
     "metadata": {},
     "output_type": "execute_result"
    }
   ],
   "source": [
    "person_dict"
   ]
  },
  {
   "cell_type": "code",
   "execution_count": 16,
   "metadata": {},
   "outputs": [
    {
     "data": {
      "text/plain": [
       "str"
      ]
     },
     "execution_count": 16,
     "metadata": {},
     "output_type": "execute_result"
    }
   ],
   "source": [
    "type(person)"
   ]
  },
  {
   "cell_type": "code",
   "execution_count": 13,
   "metadata": {},
   "outputs": [
    {
     "data": {
      "text/plain": [
       "{'type': 'Bob',\n",
       " 'name': 'diff_peaks_10s',\n",
       " 'url': 'https://ipscspublic.s3.eu-central-1.amazonaws.com/atac_10s_lf/ANOVA_atac_not_in_all.bed.gz',\n",
       " 'options': {'color': 'blue'}}"
      ]
     },
     "execution_count": 13,
     "metadata": {},
     "output_type": "execute_result"
    }
   ],
   "source": [
    "person_dict"
   ]
  }
 ],
 "metadata": {
  "kernelspec": {
   "display_name": "Python 3",
   "language": "python",
   "name": "python3"
  },
  "language_info": {
   "codemirror_mode": {
    "name": "ipython",
    "version": 3
   },
   "file_extension": ".py",
   "mimetype": "text/x-python",
   "name": "python",
   "nbconvert_exporter": "python",
   "pygments_lexer": "ipython3",
   "version": "3.8.2"
  }
 },
 "nbformat": 4,
 "nbformat_minor": 4
}
