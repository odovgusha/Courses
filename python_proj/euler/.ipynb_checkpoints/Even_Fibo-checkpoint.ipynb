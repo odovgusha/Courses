{
 "cells": [
  {
   "cell_type": "code",
   "execution_count": 23,
   "metadata": {},
   "outputs": [],
   "source": [
    "def fib(val):\n",
    "    a = 0\n",
    "    b = 1\n",
    "    fiblist = [a,b]\n",
    "    evsum = 0\n",
    "    c = 0\n",
    "    while a + b < val:\n",
    "        c = a + b\n",
    "        a,b = b,c\n",
    "        if c%2 == 0:\n",
    "            evsum += c\n",
    "        fiblist.append(c)\n",
    "    return fiblist, evsum\n",
    "        \n",
    "    \n",
    "        \n",
    "        "
   ]
  },
  {
   "cell_type": "code",
   "execution_count": 20,
   "metadata": {},
   "outputs": [
    {
     "data": {
      "text/plain": [
       "1"
      ]
     },
     "execution_count": 20,
     "metadata": {},
     "output_type": "execute_result"
    }
   ],
   "source": [
    "5%2"
   ]
  },
  {
   "cell_type": "code",
   "execution_count": 24,
   "metadata": {},
   "outputs": [
    {
     "data": {
      "text/plain": [
       "([0,\n",
       "  1,\n",
       "  1,\n",
       "  2,\n",
       "  3,\n",
       "  5,\n",
       "  8,\n",
       "  13,\n",
       "  21,\n",
       "  34,\n",
       "  55,\n",
       "  89,\n",
       "  144,\n",
       "  233,\n",
       "  377,\n",
       "  610,\n",
       "  987,\n",
       "  1597,\n",
       "  2584,\n",
       "  4181,\n",
       "  6765,\n",
       "  10946,\n",
       "  17711,\n",
       "  28657,\n",
       "  46368,\n",
       "  75025,\n",
       "  121393,\n",
       "  196418,\n",
       "  317811,\n",
       "  514229,\n",
       "  832040,\n",
       "  1346269,\n",
       "  2178309,\n",
       "  3524578],\n",
       " 4613732)"
      ]
     },
     "execution_count": 24,
     "metadata": {},
     "output_type": "execute_result"
    }
   ],
   "source": [
    "fib(4000000)"
   ]
  }
 ],
 "metadata": {
  "kernelspec": {
   "display_name": "Python 3",
   "language": "python",
   "name": "python3"
  },
  "language_info": {
   "codemirror_mode": {
    "name": "ipython",
    "version": 3
   },
   "file_extension": ".py",
   "mimetype": "text/x-python",
   "name": "python",
   "nbconvert_exporter": "python",
   "pygments_lexer": "ipython3",
   "version": "3.7.6"
  }
 },
 "nbformat": 4,
 "nbformat_minor": 4
}
