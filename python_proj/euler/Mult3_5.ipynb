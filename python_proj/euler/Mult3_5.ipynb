{
 "cells": [
  {
   "cell_type": "code",
   "execution_count": 24,
   "metadata": {},
   "outputs": [],
   "source": [
    "def mult3_5():\n",
    "    c = 0 \n",
    "    el_sum = 0\n",
    "    while c+3 < 1000:\n",
    "        c += 3\n",
    "        if c % 3 == 0 or c % 5 == 0:\n",
    "            el_sum+=c\n",
    "            #print(c)\n",
    "    \n",
    "    c = 0 \n",
    "    while c+5 < 1000:\n",
    "        c += 5\n",
    "        if c % 3 != 0 and c % 5 == 0:\n",
    "            el_sum+=c\n",
    "            #print(c)\n",
    "    return el_sum\n",
    "            \n",
    "\n",
    "            "
   ]
  },
  {
   "cell_type": "code",
   "execution_count": 25,
   "metadata": {},
   "outputs": [
    {
     "data": {
      "text/plain": [
       "233168"
      ]
     },
     "execution_count": 25,
     "metadata": {},
     "output_type": "execute_result"
    }
   ],
   "source": [
    "mult3_5()"
   ]
  }
 ],
 "metadata": {
  "kernelspec": {
   "display_name": "Python 3",
   "language": "python",
   "name": "python3"
  },
  "language_info": {
   "codemirror_mode": {
    "name": "ipython",
    "version": 3
   },
   "file_extension": ".py",
   "mimetype": "text/x-python",
   "name": "python",
   "nbconvert_exporter": "python",
   "pygments_lexer": "ipython3",
   "version": "3.7.6"
  }
 },
 "nbformat": 4,
 "nbformat_minor": 4
}
