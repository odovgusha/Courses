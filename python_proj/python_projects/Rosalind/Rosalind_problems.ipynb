{
 "cells": [
  {
   "cell_type": "code",
   "execution_count": 128,
   "metadata": {},
   "outputs": [
    {
     "name": "stdout",
     "output_type": "stream",
     "text": [
      "AUGCUUUUGCGCAAA\n"
     ]
    }
   ],
   "source": [
    "def dna2rna(dna_seq):\n",
    " rna_seq=\"\"\n",
    " for i in range(0,len(dna_seq)):\n",
    "  if dna_seq[i] == \"T\":\n",
    "   rna_seq+=\"U\"\n",
    "  else:\n",
    "   rna_seq+=dna_seq[i]\n",
    " return(rna_seq)\n",
    " \n",
    "print(dna2rna(\"ATGCTTTTGCGCAAA\"))\n",
    "\n",
    "\n",
    "def translate(seq, t_type = 1): \n",
    "    table2 = { \n",
    "        'ATA':'I', 'ATC':'I', 'ATT':'I', 'ATG':'M', \n",
    "        'ACA':'T', 'ACC':'T', 'ACG':'T', 'ACT':'T', \n",
    "        'AAC':'N', 'AAT':'N', 'AAA':'K', 'AAG':'K', \n",
    "        'AGC':'S', 'AGT':'S', 'AGA':'R', 'AGG':'R',                  \n",
    "        'CTA':'L', 'CTC':'L', 'CTG':'L', 'CTT':'L', \n",
    "        'CCA':'P', 'CCC':'P', 'CCG':'P', 'CCT':'P', \n",
    "        'CAC':'H', 'CAT':'H', 'CAA':'Q', 'CAG':'Q', \n",
    "        'CGA':'R', 'CGC':'R', 'CGG':'R', 'CGT':'R', \n",
    "        'GTA':'V', 'GTC':'V', 'GTG':'V', 'GTT':'V', \n",
    "        'GCA':'A', 'GCC':'A', 'GCG':'A', 'GCT':'A', \n",
    "        'GAC':'D', 'GAT':'D', 'GAA':'E', 'GAG':'E', \n",
    "        'GGA':'G', 'GGC':'G', 'GGG':'G', 'GGT':'G', \n",
    "        'TCA':'S', 'TCC':'S', 'TCG':'S', 'TCT':'S', \n",
    "        'TTC':'F', 'TTT':'F', 'TTA':'L', 'TTG':'L', \n",
    "        'TAC':'Y', 'TAT':'Y', 'TAA':'', 'TAG':'', \n",
    "        'TGC':'C', 'TGT':'C', 'TGA':'', 'TGG':'W', \n",
    "    }  \n",
    "    table1 = { \n",
    "        'ATA':'I', 'ATC':'I', 'ATT':'I', 'ATG':'M', \n",
    "        'ACA':'T', 'ACC':'T', 'ACG':'T', 'ACT':'T', \n",
    "        'AAC':'N', 'AAT':'N', 'AAA':'K', 'AAG':'K', \n",
    "        'AGC':'S', 'AGT':'S', 'AGA':'R', 'AGG':'R',                  \n",
    "        'CTA':'L', 'CTC':'L', 'CTG':'L', 'CTT':'L', \n",
    "        'CCA':'P', 'CCC':'P', 'CCG':'P', 'CCT':'P', \n",
    "        'CAC':'H', 'CAT':'H', 'CAA':'Q', 'CAG':'Q', \n",
    "        'CGA':'R', 'CGC':'R', 'CGG':'R', 'CGT':'R', \n",
    "        'GTA':'V', 'GTC':'V', 'GTG':'V', 'GTT':'V', \n",
    "        'GCA':'A', 'GCC':'A', 'GCG':'A', 'GCT':'A', \n",
    "        'GAC':'D', 'GAT':'D', 'GAA':'E', 'GAG':'E', \n",
    "        'GGA':'G', 'GGC':'G', 'GGG':'G', 'GGT':'G', \n",
    "        'TCA':'S', 'TCC':'S', 'TCG':'S', 'TCT':'S', \n",
    "        'TTC':'F', 'TTT':'F', 'TTA':'L', 'TTG':'L', \n",
    "        'TAC':'Y', 'TAT':'Y', 'TAA':'_', 'TAG':'_', \n",
    "        'TGC':'C', 'TGT':'C', 'TGA':'_', 'TGG':'W', \n",
    "    } \n",
    "    \n",
    "    if t_type==1:\n",
    "        table = table2\n",
    "    else:\n",
    "        table = table1\n",
    "    protein =\"\" \n",
    "    if len(seq)%3 == 0: \n",
    "        for i in range(0, len(seq), 3): \n",
    "            codon = seq[i:i + 3] \n",
    "            protein+= table[codon] \n",
    "    return protein"
   ]
  },
  {
   "cell_type": "code",
   "execution_count": 48,
   "metadata": {},
   "outputs": [
    {
     "data": {
      "text/plain": [
       "'ATGGTCTACATAGCTGACAAACAGCACGTAGCAATCGGTCGAATCTCGAGAGGCATATGGTCACATGATCGGTCGAGCGTGTTTCAAAGTTTGCGCCTA'"
      ]
     },
     "execution_count": 48,
     "metadata": {},
     "output_type": "execute_result"
    }
   ],
   "source": []
  },
  {
   "cell_type": "code",
   "execution_count": 50,
   "metadata": {},
   "outputs": [
    {
     "data": {
      "text/plain": [
       "'MVYIADKQHVAIGRISRGIWSHDRSSVFQSLRL'"
      ]
     },
     "execution_count": 50,
     "metadata": {},
     "output_type": "execute_result"
    }
   ],
   "source": [
    "translate(dna_seq[0][:-1])"
   ]
  },
  {
   "cell_type": "code",
   "execution_count": 45,
   "metadata": {},
   "outputs": [
    {
     "data": {
      "text/plain": [
       "'ATGGTCTACATAGCTGACAAACAGCACGTAGCAATCGGTCGAATCTCGAGAGGCATATGGTCACATGATCGGTCGAGCGTGTTTCAAAGTTTGCGCCTAG'"
      ]
     },
     "execution_count": 45,
     "metadata": {},
     "output_type": "execute_result"
    }
   ],
   "source": [
    "dna_seq[0]"
   ]
  },
  {
   "cell_type": "code",
   "execution_count": 44,
   "metadata": {},
   "outputs": [
    {
     "data": {
      "text/plain": [
       "''"
      ]
     },
     "execution_count": 44,
     "metadata": {},
     "output_type": "execute_result"
    }
   ],
   "source": [
    "translate(dna_seq[0])"
   ]
  },
  {
   "cell_type": "code",
   "execution_count": 3,
   "metadata": {},
   "outputs": [],
   "source": [
    "file = \"rosalind_splc.txt\"\n"
   ]
  },
  {
   "cell_type": "code",
   "execution_count": 2,
   "metadata": {},
   "outputs": [
    {
     "name": "stdout",
     "output_type": "stream",
     "text": [
      "/mnt/c/Users/dovgu/Documents/courses/python_proj/python_projects/Rosalind\n"
     ]
    }
   ],
   "source": [
    "!pwd"
   ]
  },
  {
   "cell_type": "code",
   "execution_count": null,
   "metadata": {},
   "outputs": [],
   "source": []
  },
  {
   "cell_type": "code",
   "execution_count": 213,
   "metadata": {},
   "outputs": [
    {
     "name": "stdout",
     "output_type": "stream",
     "text": [
      "ATGACCCGTGCCAGTAAACCAGGTTGGCTGGCGCCATGTTTGGAGCAAAGTATTAAGAAGGCAATCTGGGCTCTCCTCCCAAAAATTACCCGTGTCCTTATAACAACCGGTAACTGGATCAACCGCGAGCTCTGTAATGAGGTAAGTACGGCAATATTGCACCGTCAAACCGCCCCTCCGTGCGCTCAGGGACAAGCATGGAACGATTTTCACAAGTATATGAATCTCTCCGCGGTCACTTAGGATGGAGAGCTTTGGGCCGTAGTAACACTTGGATATACATACCTGCCACCAATTCTCGTTCTGAACTGCGAGCTCGTTTGTCTGGTTGACACTCGTTCAGGTTACCCAGTGCCCGGGTCACACTCAGCAGTGAGCACTTGACTTGGATCCAAAGTTAAGACGGTCTGAAGGGACTGAAGTTCTGCATCAATGAGACTCGGCGCGCTTGTGGAACCGATCACAAGGAGTCATCACCCGTCCCCTACGCAACTTGGTCATCTCCCCTGTTACGCCAGTTCGACCTATGATTGCTAGTGGCTTCTGAAGCCCCGATACCGTCTTTCCTCGCGTCAGCTCCCAAATCGGTTTCGGGGGTCAGATCGACGCAAACACCCCAACTGCAACACTGTCAGGTGCCAATGCGTGCCGCTACACACGAAATCTGGTTAATAGATATAAGCCAGACAGTCGCCAATGGTCCTCCAATCAGCGATCATCCCAATCTTTACGCCCGGCTTTGTCTTGATGAGCCCAGGAGGAAGTAACGGGAGAGCGATTCGTCTACAGTACGGCGGGTCCGTGCGTACCCATAACCCCACTGCAGTCCGAAAATGGCGAGGCGGATTACATCCTTCGACTTTGCTTCTCCTTTGCGTGCGTAGTTAAGCAATGCGAGGGAGTCGTTCCCTGAACCGCGATGAAGTCACATCTACACCCTCGACGTGTGTGCAATATGGATACGGTCTTGGGTGTAA\n",
      "TCCTTTGCGTGCGTAGTTAAGCAATGCGAGGG\n",
      "CGCCCGGCTTTGTC\n",
      "TCCGTGCGTACCCATAACCCCACTGCAGTCCGAAAATGGC\n",
      "CCAGTGCCCGGGTCACACTCAGCAGTGAGCACTTGA\n",
      "AAGAAGGCAATCTGGGCTCTCCTCCCAAAAATTACC\n",
      "GCTCAGGGACAAGCATGGAACGATTTTCACAAGTA\n",
      "TAATAGATATAAG\n",
      "AGTAACACTTGGATATACATACCTGCCA\n",
      "TGAAGGGACTGAAGTTCTGCATCAATGAGA\n",
      "TGTGTGCAATATGG\n",
      "GCAAACACCCC\n",
      "CCGATCACAAGGAGTCATCACCCGTCCCCTACGCAACTTGGT\n",
      "AGTTCGACCTATGATTGCTAGTGGCTTCTGAAGCCCCGATACCGTCTTT\n"
     ]
    }
   ],
   "source": [
    "file = \"rosalind_splc_4.txt\"\n",
    "dna_seq = []\n",
    "a = 0\n",
    "parsing = False\n",
    "with open(file, 'r') as f:\n",
    "    inRecordingMode = False\n",
    "    new_line = \"\"\n",
    "    for line in f:\n",
    "        if not inRecordingMode:\n",
    "            if line.startswith('>'):\n",
    "                #print(line)\n",
    "                inRecordingMode = True\n",
    "        elif line.startswith('>'):\n",
    "            #print(line)\n",
    "            dna_seq.append(new_line)\n",
    "            print(new_line)\n",
    "            new_line = \"\"\n",
    "            inRecodingMode = False\n",
    "        else:\n",
    "            new_line+=(line.strip())\n",
    "    else:\n",
    "        dna_seq.append(new_line)\n"
   ]
  },
  {
   "cell_type": "code",
   "execution_count": 204,
   "metadata": {},
   "outputs": [
    {
     "data": {
      "text/plain": [
       "['ATGCCGGTCGTATCAAAACAGAATTTGAACTATCTCGCTGCTGGTTCGCTTCCACTTACTGCTAGCACCATCGCGCGCTCATCATTCTACAGCTACATATTTATCTACCATAGTGTACTGATTCCCTATCGACCGGGGATGCGCTGATTGGTTTGCGATGTTGACGGGTCGCATCTTGACAGGCTTTGCTCTATGATTTATACTACCTATTCCTTTCACCCATGTATAACATCTGGAAGTGGTGTAAGTAGATTTCCATTAGGGAGGCGTGCATAAAGATTGAACACACGGTAGTATCACCCTTGGATGAATGGGTTGTACCAGCACCATCAGTGTCTGACTTATGTGCGAGTTTTCCACTGCTGTCTCATGGCTATTATTGTTGCAGTCATCGCTAGTAGTATAAAGGAATGCGGTGACGCTACTACTTTATCGCATTCTTTGCCATCCTTAGGTCGCCCGAGGTTGTAGCCGGGGCCGCCTGGGGTCTACCGACGAGATGCCTGTGGGGTTGCGAGTCACCCCGGGTGATAGGACGCAGGGAAGACGATTAGATCGGTCAATGCAAATCCGATGTTTATGTCAGACCACGGAGGCTGATCGACTTAGCGCCGGATACACCGGTTATAAAACCGTTCAGCTGGGTACCTTAGCTGGATCGAAGAGTATCAGCTCGGGTTCGATCCCTTATGCCTCTCGCAGCGGTGTGAGAATACGTGTGAGACGGTGCCTCTTATCTGACTGGTATATCGTTCTTAACAGAAATTTCCCCCACTCTTATCGGTGGACTTTAATTCCGTTATGAATCCATGCCTAGGAACGCTGCGCGGTTCTCAATAGTCGCTATGGCCCTGAGTCGGTCCGGACAACGCAATAGTTGCTATTCTACGCGTTAGCCCATATAGATAAAAATCCTAATTCCCAGAATCGCCGTTAGCGCCTCTGGCCTATAG',\n",
       " 'GCGATGTTGACGGGTCGCATCTTGACAGGCTTTGCTCTATGA',\n",
       " 'CCGAGGTTGTAGCCGG',\n",
       " 'AGCCCATATAGATAAAAATCCTAATTCCCAGAATC',\n",
       " 'GCTAGCACCATCGCGC',\n",
       " 'GTCGCTATGGCCCTGAGTCGGTCCGGACAAC',\n",
       " 'TGTTTATGTC',\n",
       " 'GTGGGGTTGCGAGTCACCCCGGGTGATAGGACGCAGGGA',\n",
       " 'ACCATAGTGTACTGATTCCCTATCGAC',\n",
       " 'GCGAGTTTTCCACTGCTGTCTCATGGCTATTATTGTTGCAGTC',\n",
       " 'TGGGTACCTTAGCTGGATCGAAGAGTATCAGCTCGGGTTC',\n",
       " 'TAAAGATTGAACACACGGTAGTA',\n",
       " 'ATCGGTGGACTTTAA',\n",
       " 'TTGAACTATCTCGCTGCTGGT',\n",
       " 'CATGTATAACATCTGGA',\n",
       " 'AAGGAATGCGGTGACGCTACT',\n",
       " 'AATACGTGTGAGACGGT']"
      ]
     },
     "execution_count": 204,
     "metadata": {},
     "output_type": "execute_result"
    }
   ],
   "source": [
    "dna_seq"
   ]
  },
  {
   "cell_type": "code",
   "execution_count": 211,
   "metadata": {},
   "outputs": [],
   "source": [
    "def splicer(dna_seq,introns):\n",
    "    spliced_dna = \"\"\n",
    "    splice_sites = []\n",
    "    for intr in introns:\n",
    "        #print(intr)\n",
    "        for i in range(0,len(dna_seq)):\n",
    "            if intr == dna_seq[i:i+len(intr)]:\n",
    "                splice_sites.extend((i,i+len(intr)))\n",
    "                \n",
    "    splice_sites.sort()\n",
    "    include = splice_sites[1:-1]\n",
    "    spliced_dna += dna_seq[:splice_sites[0]]\n",
    "    \n",
    "    include_pairs = list(zip(*[iter(include)]*2))\n",
    "    #print(include_pairs[0])\n",
    "    for in_p in include_pairs:\n",
    "        #print(in_p[0],in_p[1])\n",
    "        spliced_dna += dna_seq[in_p[0]:in_p[1]]\n",
    "    #splice_sites[1:-1]\n",
    "    spliced_dna += dna_seq[splice_sites[-1]:]\n",
    "    #print(spliced_dna)\n",
    "    prot = translate(spliced_dna)\n",
    "    \n",
    "    return(prot)\n",
    "        \n",
    "        \n",
    "    "
   ]
  },
  {
   "cell_type": "code",
   "execution_count": 214,
   "metadata": {},
   "outputs": [
    {
     "data": {
      "text/plain": [
       "'MTRASKPGWLAPCLEQSIRVLITTGNWINRELCNEQTAPPCYESLRGHLGWRALGRPILVLNCELVCLVDTRSGYLGSKVKTVLGALVEHLPCYAPRVSSQIGFGGQIDNCNTVRCQCVPLHTKSGPDSRQWSSNQRSSQSLLMSPGGSNGRAIRLQYGGEADYILRLCFSRSLNRDEVTSTPSTIRSWV'"
      ]
     },
     "execution_count": 214,
     "metadata": {},
     "output_type": "execute_result"
    }
   ],
   "source": [
    "splicer(dna_seq[0],dna_seq[1:])"
   ]
  }
 ],
 "metadata": {
  "kernelspec": {
   "display_name": "Python 3",
   "language": "python",
   "name": "python3"
  },
  "language_info": {
   "codemirror_mode": {
    "name": "ipython",
    "version": 3
   },
   "file_extension": ".py",
   "mimetype": "text/x-python",
   "name": "python",
   "nbconvert_exporter": "python",
   "pygments_lexer": "ipython3",
   "version": "3.8.2"
  }
 },
 "nbformat": 4,
 "nbformat_minor": 4
}
