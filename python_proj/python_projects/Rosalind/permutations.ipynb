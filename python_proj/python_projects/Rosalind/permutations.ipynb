{
 "cells": [
  {
   "cell_type": "code",
   "execution_count": 21,
   "metadata": {},
   "outputs": [],
   "source": [
    "import math"
   ]
  },
  {
   "cell_type": "code",
   "execution_count": 422,
   "metadata": {},
   "outputs": [
    {
     "data": {
      "text/plain": [
       "720"
      ]
     },
     "execution_count": 422,
     "metadata": {},
     "output_type": "execute_result"
    }
   ],
   "source": [
    "math.factorial(6)"
   ]
  },
  {
   "cell_type": "code",
   "execution_count": 586,
   "metadata": {},
   "outputs": [],
   "source": [
    "def seq_gen(a=5):\n",
    "    seq = []\n",
    "    for i in range(1,a+1):\n",
    "        seq.append(i)\n",
    "    return(seq)"
   ]
  },
  {
   "cell_type": "code",
   "execution_count": 443,
   "metadata": {},
   "outputs": [],
   "source": [
    "def permute_rec(seq):\n",
    "    seq_all = []\n",
    "    sub_seq_1 = seq[:len(seq)-3]\n",
    "    sub_seq_2 = seq[len(seq)-3:]\n",
    "    j = len(sub_seq_1) * (len(sub_seq_1)-1)\n",
    "    #i = len(sub_seq_1)-1\n",
    "    \n",
    "    while j > 0:\n",
    "        #print(seq)\n",
    "        #if i == len(seq)-len(seq):\n",
    "        #    i = len(seq)-1\n",
    "        per_seq_2 = permute(sub_seq_2)\n",
    "        #print(per_seq_2)\n",
    "        for l1 in per_seq_2:\n",
    "            #print(sub_seq_1.extend(l1))\n",
    "            seq_all.append(sub_seq_1+l1)\n",
    "            #print(sub_seq_1.extend(l1))\n",
    "        permute_n(sub_seq_1)\n",
    "        #sub_seq_1[1],sub_seq_1[0] = sub_seq_1[0],sub_seq_1[1]\n",
    "        #print(sub_seq_1)    \n",
    "        #seq_all.append(seq)\n",
    "        j-=1\n",
    "        #i-=1\n",
    "    return(seq_all)"
   ]
  },
  {
   "cell_type": "code",
   "execution_count": 591,
   "metadata": {},
   "outputs": [
    {
     "data": {
      "text/plain": [
       "[[1, 2, 3, 5, 4],\n",
       " [1, 2, 5, 3, 4],\n",
       " [1, 2, 5, 4, 3],\n",
       " [1, 2, 4, 5, 3],\n",
       " [1, 2, 4, 3, 5],\n",
       " [1, 2, 3, 4, 5],\n",
       " [2, 1, 3, 5, 4],\n",
       " [2, 1, 5, 3, 4],\n",
       " [2, 1, 5, 4, 3],\n",
       " [2, 1, 4, 5, 3],\n",
       " [2, 1, 4, 3, 5],\n",
       " [2, 1, 3, 4, 5]]"
      ]
     },
     "execution_count": 591,
     "metadata": {},
     "output_type": "execute_result"
    }
   ],
   "source": [
    "permute_rec(seq)"
   ]
  },
  {
   "cell_type": "code",
   "execution_count": 584,
   "metadata": {},
   "outputs": [
    {
     "data": {
      "text/plain": [
       "[1, 2, 3, 4]"
      ]
     },
     "execution_count": 584,
     "metadata": {},
     "output_type": "execute_result"
    }
   ],
   "source": [
    "seq"
   ]
  },
  {
   "cell_type": "code",
   "execution_count": 588,
   "metadata": {},
   "outputs": [],
   "source": [
    "def permute_all(seq):\n",
    "    j1 = 6\n",
    "    final_lst = []\n",
    "    while j1 > 0:\n",
    "        temp_lst_1 = permute_rec(seq)\n",
    "        print(temp_lst_1)\n",
    "        t_1 = permute_n(temp_lst_1[-1],len(temp_lst_1[-1])//2)\n",
    "        #print(t_1)\n",
    "        temp_lst_2 = permute_rec(t_1)\n",
    "        #print(temp_lst_2[-1])\n",
    "        \n",
    "        t_2 = temp_lst_2[-1]\n",
    "        print(t_2)\n",
    "        t_2[len(t_2)-1],t_2[len(t_2)-4] = t_2[len(t_2)-4],t_2[len(t_2)-1]\n",
    "        seq = t_2.copy()\n",
    "        final_lst += temp_lst_1 + temp_lst_2\n",
    "        #print(t_2)\n",
    "        j1-=1\n",
    "    #print(len(final_lst))\n",
    "    return(final_lst)"
   ]
  },
  {
   "cell_type": "code",
   "execution_count": 589,
   "metadata": {},
   "outputs": [
    {
     "name": "stdout",
     "output_type": "stream",
     "text": [
      "[[1, 2, 3, 5, 4], [1, 2, 5, 3, 4], [1, 2, 5, 4, 3], [1, 2, 4, 5, 3], [1, 2, 4, 3, 5], [1, 2, 3, 4, 5], [2, 1, 3, 5, 4], [2, 1, 5, 3, 4], [2, 1, 5, 4, 3], [2, 1, 4, 5, 3], [2, 1, 4, 3, 5], [2, 1, 3, 4, 5]]\n",
      "[4, 3, 5, 2, 1]\n",
      "[[4, 1, 5, 3, 2], [4, 1, 3, 5, 2], [4, 1, 3, 2, 5], [4, 1, 2, 3, 5], [4, 1, 2, 5, 3], [4, 1, 5, 2, 3], [1, 4, 5, 3, 2], [1, 4, 3, 5, 2], [1, 4, 3, 2, 5], [1, 4, 2, 3, 5], [1, 4, 2, 5, 3], [1, 4, 5, 2, 3]]\n",
      "[2, 5, 3, 1, 4]\n",
      "[[2, 4, 3, 5, 1], [2, 4, 5, 3, 1], [2, 4, 5, 1, 3], [2, 4, 1, 5, 3], [2, 4, 1, 3, 5], [2, 4, 3, 1, 5], [4, 2, 3, 5, 1], [4, 2, 5, 3, 1], [4, 2, 5, 1, 3], [4, 2, 1, 5, 3], [4, 2, 1, 3, 5], [4, 2, 3, 1, 5]]\n",
      "[1, 3, 5, 4, 2]\n",
      "[[1, 2, 5, 3, 4], [1, 2, 3, 5, 4], [1, 2, 3, 4, 5], [1, 2, 4, 3, 5], [1, 2, 4, 5, 3], [1, 2, 5, 4, 3], [2, 1, 5, 3, 4], [2, 1, 3, 5, 4], [2, 1, 3, 4, 5], [2, 1, 4, 3, 5], [2, 1, 4, 5, 3], [2, 1, 5, 4, 3]]\n",
      "[4, 5, 3, 2, 1]\n",
      "[[4, 1, 3, 5, 2], [4, 1, 5, 3, 2], [4, 1, 5, 2, 3], [4, 1, 2, 5, 3], [4, 1, 2, 3, 5], [4, 1, 3, 2, 5], [1, 4, 3, 5, 2], [1, 4, 5, 3, 2], [1, 4, 5, 2, 3], [1, 4, 2, 5, 3], [1, 4, 2, 3, 5], [1, 4, 3, 2, 5]]\n",
      "[2, 3, 5, 1, 4]\n",
      "[[2, 4, 5, 3, 1], [2, 4, 3, 5, 1], [2, 4, 3, 1, 5], [2, 4, 1, 3, 5], [2, 4, 1, 5, 3], [2, 4, 5, 1, 3], [4, 2, 5, 3, 1], [4, 2, 3, 5, 1], [4, 2, 3, 1, 5], [4, 2, 1, 3, 5], [4, 2, 1, 5, 3], [4, 2, 5, 1, 3]]\n",
      "[1, 5, 3, 4, 2]\n"
     ]
    }
   ],
   "source": [
    "seq = seq_gen(5)\n",
    "testdata = permute_all(seq)\n",
    "#unique_data = [list(x) for x in set(tuple(x) for x in testdata)]"
   ]
  },
  {
   "cell_type": "code",
   "execution_count": 549,
   "metadata": {},
   "outputs": [],
   "source": [
    "file = list()\n",
    "for i in unique_data:\n",
    "    res = int(\"\".join(map(str, i)))\n",
    "    file.append(res)\n",
    "    "
   ]
  },
  {
   "cell_type": "code",
   "execution_count": 573,
   "metadata": {},
   "outputs": [],
   "source": [
    "t = list()\n",
    "for i in file:\n",
    "    t.append(int(str(i)[:2]))"
   ]
  },
  {
   "cell_type": "code",
   "execution_count": 574,
   "metadata": {},
   "outputs": [
    {
     "data": {
      "text/plain": [
       "[32, 34, 41, 42, 43, 12, 13, 14, 15, 45, 51, 52, 21, 54, 23, 24, 25, 31]"
      ]
     },
     "execution_count": 574,
     "metadata": {},
     "output_type": "execute_result"
    }
   ],
   "source": [
    "list(set(t))"
   ]
  },
  {
   "cell_type": "code",
   "execution_count": 566,
   "metadata": {},
   "outputs": [
    {
     "data": {
      "text/plain": [
       "[12,\n",
       " 12,\n",
       " 12,\n",
       " 12,\n",
       " 12,\n",
       " 12,\n",
       " 13,\n",
       " 13,\n",
       " 13,\n",
       " 13,\n",
       " 13,\n",
       " 14,\n",
       " 14,\n",
       " 14,\n",
       " 14,\n",
       " 14,\n",
       " 14,\n",
       " 15,\n",
       " 15,\n",
       " 15,\n",
       " 15,\n",
       " 15,\n",
       " 21,\n",
       " 21,\n",
       " 21,\n",
       " 21,\n",
       " 21,\n",
       " 21,\n",
       " 23,\n",
       " 23,\n",
       " 23,\n",
       " 23,\n",
       " 23,\n",
       " 24,\n",
       " 24,\n",
       " 24,\n",
       " 24,\n",
       " 24,\n",
       " 24,\n",
       " 25,\n",
       " 25,\n",
       " 25,\n",
       " 25,\n",
       " 25,\n",
       " 31,\n",
       " 31,\n",
       " 31,\n",
       " 31,\n",
       " 31,\n",
       " 31,\n",
       " 32,\n",
       " 32,\n",
       " 32,\n",
       " 32,\n",
       " 32,\n",
       " 32,\n",
       " 34,\n",
       " 34,\n",
       " 34,\n",
       " 34,\n",
       " 34,\n",
       " 34,\n",
       " 41,\n",
       " 41,\n",
       " 41,\n",
       " 41,\n",
       " 41,\n",
       " 41,\n",
       " 42,\n",
       " 42,\n",
       " 42,\n",
       " 42,\n",
       " 42,\n",
       " 42,\n",
       " 43,\n",
       " 43,\n",
       " 43,\n",
       " 43,\n",
       " 43,\n",
       " 45,\n",
       " 45,\n",
       " 45,\n",
       " 45,\n",
       " 45,\n",
       " 51,\n",
       " 51,\n",
       " 51,\n",
       " 51,\n",
       " 51,\n",
       " 51,\n",
       " 52,\n",
       " 52,\n",
       " 52,\n",
       " 52,\n",
       " 52,\n",
       " 52,\n",
       " 54,\n",
       " 54,\n",
       " 54,\n",
       " 54,\n",
       " 54,\n",
       " 54]"
      ]
     },
     "execution_count": 566,
     "metadata": {},
     "output_type": "execute_result"
    }
   ],
   "source": [
    "unique_data"
   ]
  },
  {
   "cell_type": "code",
   "execution_count": 560,
   "metadata": {},
   "outputs": [
    {
     "name": "stdout",
     "output_type": "stream",
     "text": [
      "[12345, 12354, 12435, 12453, 12534, 12543, 13245, 13254, 13425, 13452, 13524, 14235, 14253, 14325, 14352, 14523, 14532, 15234, 15243, 15324, 15423, 15432, 21345, 21354, 21435, 21453, 21534, 21543, 23145, 23154, 23415, 23451, 23541, 24135, 24153, 24315, 24351, 24513, 24531, 25134, 25143, 25341, 25413, 25431, 31245, 31254, 31425, 31452, 31524, 31542, 32145, 32154, 32415, 32451, 32514, 32541, 34125, 34152, 34215, 34251, 34512, 34521, 41235, 41253, 41325, 41352, 41523, 41532, 42135, 42153, 42315, 42351, 42513, 42531, 43125, 43152, 43215, 43251, 43512, 45123, 45132, 45213, 45231, 45312, 51234, 51243, 51324, 51342, 51423, 51432, 52134, 52143, 52314, 52341, 52413, 52431, 54123, 54132, 54213, 54231, 54312, 54321]\n"
     ]
    }
   ],
   "source": [
    "print(file)"
   ]
  },
  {
   "cell_type": "code",
   "execution_count": 543,
   "metadata": {},
   "outputs": [
    {
     "data": {
      "text/plain": [
       "102"
      ]
     },
     "execution_count": 543,
     "metadata": {},
     "output_type": "execute_result"
    }
   ],
   "source": [
    "len(unique_data)\n"
   ]
  },
  {
   "cell_type": "code",
   "execution_count": 501,
   "metadata": {},
   "outputs": [
    {
     "data": {
      "text/plain": [
       "720"
      ]
     },
     "execution_count": 501,
     "metadata": {},
     "output_type": "execute_result"
    }
   ],
   "source": [
    "len(permute_all(seq))"
   ]
  },
  {
   "cell_type": "code",
   "execution_count": 440,
   "metadata": {},
   "outputs": [
    {
     "name": "stdout",
     "output_type": "stream",
     "text": [
      "[[3, 5, 4]]\n",
      "[[3, 5, 4], [5, 3, 4]]\n",
      "[[3, 5, 4], [5, 3, 4], [5, 4, 3]]\n",
      "[[3, 5, 4], [5, 3, 4], [5, 4, 3], [4, 5, 3]]\n",
      "[[3, 5, 4], [5, 3, 4], [5, 4, 3], [4, 5, 3], [4, 3, 5]]\n",
      "[[3, 5, 4], [5, 3, 4], [5, 4, 3], [4, 5, 3], [4, 3, 5], [3, 4, 5]]\n"
     ]
    }
   ],
   "source": [
    "per_seq_2 = permute(sub_seq_2)"
   ]
  },
  {
   "cell_type": "code",
   "execution_count": 364,
   "metadata": {},
   "outputs": [],
   "source": [
    "sub_seq_1 = [1,2,3]"
   ]
  },
  {
   "cell_type": "code",
   "execution_count": 307,
   "metadata": {},
   "outputs": [
    {
     "name": "stdout",
     "output_type": "stream",
     "text": [
      "[1, 3, 2]\n"
     ]
    }
   ],
   "source": [
    "sub_seq_1 = permute_n(sub_seq_1,1)\n",
    "print(sub_seq_1)"
   ]
  },
  {
   "cell_type": "code",
   "execution_count": null,
   "metadata": {},
   "outputs": [],
   "source": []
  },
  {
   "cell_type": "code",
   "execution_count": 404,
   "metadata": {},
   "outputs": [
    {
     "data": {
      "text/plain": [
       "[2, 1, 3]"
      ]
     },
     "execution_count": 404,
     "metadata": {},
     "output_type": "execute_result"
    }
   ],
   "source": [
    "sub_seq_1.append(sub_seq_1.pop(0))\n",
    "sub_seq_1"
   ]
  },
  {
   "cell_type": "code",
   "execution_count": 384,
   "metadata": {},
   "outputs": [
    {
     "data": {
      "text/plain": [
       "[1, 2, 3]"
      ]
     },
     "execution_count": 384,
     "metadata": {},
     "output_type": "execute_result"
    }
   ],
   "source": [
    "sub_seq_1.append(sub_seq_1.pop(0))\n",
    "sub_seq_1"
   ]
  },
  {
   "cell_type": "code",
   "execution_count": 442,
   "metadata": {},
   "outputs": [],
   "source": [
    "\n",
    "def permute(seq):\n",
    "    seq_perm=[]\n",
    "    j = len(seq) * (len(seq)-1)\n",
    "    i = len(seq)-1\n",
    "    while j > 0:\n",
    "        #print(seq)\n",
    "        if i == len(seq)-len(seq):\n",
    "            i = len(seq)-1\n",
    "        seq[i],seq[i-1] = seq[i-1],seq[i]\n",
    "        seq_perm.append(seq.copy())\n",
    "        #print(seq_perm)\n",
    "        j-=1\n",
    "        i-=1\n",
    "    return(seq_perm)\n"
   ]
  },
  {
   "cell_type": "code",
   "execution_count": 441,
   "metadata": {},
   "outputs": [],
   "source": [
    "def permute_n(seq,n=1):\n",
    "    while n > 0:\n",
    "        seq.append(seq.pop(0))\n",
    "        n -= 1\n",
    "    return(seq)"
   ]
  },
  {
   "cell_type": "code",
   "execution_count": 421,
   "metadata": {},
   "outputs": [
    {
     "data": {
      "text/plain": [
       "[3, 1, 2]"
      ]
     },
     "execution_count": 421,
     "metadata": {},
     "output_type": "execute_result"
    }
   ],
   "source": [
    "permute_n([1,2,3],2)"
   ]
  },
  {
   "cell_type": "code",
   "execution_count": 196,
   "metadata": {},
   "outputs": [
    {
     "name": "stdout",
     "output_type": "stream",
     "text": [
      "[[1, 3, 2]]\n",
      "[[3, 1, 2], [3, 1, 2]]\n",
      "[[3, 2, 1], [3, 2, 1], [3, 2, 1]]\n",
      "[[2, 3, 1], [2, 3, 1], [2, 3, 1], [2, 3, 1]]\n",
      "[[2, 1, 3], [2, 1, 3], [2, 1, 3], [2, 1, 3], [2, 1, 3]]\n",
      "[[1, 2, 3], [1, 2, 3], [1, 2, 3], [1, 2, 3], [1, 2, 3], [1, 2, 3]]\n"
     ]
    },
    {
     "data": {
      "text/plain": [
       "[[1, 2, 3], [1, 2, 3], [1, 2, 3], [1, 2, 3], [1, 2, 3], [1, 2, 3]]"
      ]
     },
     "execution_count": 196,
     "metadata": {},
     "output_type": "execute_result"
    }
   ],
   "source": [
    "permute([1,2,3])"
   ]
  },
  {
   "cell_type": "code",
   "execution_count": 174,
   "metadata": {},
   "outputs": [],
   "source": [
    "a = 5\n",
    "seq = []\n",
    "for i in range(1,a+1):\n",
    "    seq.append(i)\n",
    "seq_all = []"
   ]
  },
  {
   "cell_type": "code",
   "execution_count": 175,
   "metadata": {},
   "outputs": [],
   "source": [
    "sub_seq_1 = seq[:len(seq)-3]\n",
    "sub_seq_2 = seq[len(seq)-3:]"
   ]
  },
  {
   "cell_type": "code",
   "execution_count": null,
   "metadata": {},
   "outputs": [],
   "source": [
    "sub_seq_1"
   ]
  },
  {
   "cell_type": "code",
   "execution_count": 173,
   "metadata": {},
   "outputs": [],
   "source": [
    "sub_seq_1.extend(l1)"
   ]
  },
  {
   "cell_type": "code",
   "execution_count": 177,
   "metadata": {},
   "outputs": [
    {
     "name": "stdout",
     "output_type": "stream",
     "text": [
      "[3, 4, 5]\n",
      "[3, 5, 4]\n",
      "[5, 3, 4]\n",
      "[5, 4, 3]\n",
      "[4, 5, 3]\n",
      "[4, 3, 5]\n",
      "[1, 2, 3, 4, 5]\n",
      "[1, 2, 3, 4, 5]\n",
      "[1, 2, 3, 4, 5]\n",
      "[1, 2, 3, 4, 5]\n",
      "[1, 2, 3, 4, 5]\n",
      "[1, 2, 3, 4, 5]\n"
     ]
    }
   ],
   "source": [
    "seq_all = []\n",
    "for l1 in permute(sub_seq_2):\n",
    "            print(sub_seq_1+l1)\n",
    "            #seq_all.append(sub_seq_1,(l1))\n",
    "            #print(sub_seq_1.extend(l1))"
   ]
  },
  {
   "cell_type": "code",
   "execution_count": 172,
   "metadata": {},
   "outputs": [
    {
     "data": {
      "text/plain": [
       "[None, None, None, None, None, None]"
      ]
     },
     "execution_count": 172,
     "metadata": {},
     "output_type": "execute_result"
    }
   ],
   "source": [
    "seq_all"
   ]
  },
  {
   "cell_type": "code",
   "execution_count": 127,
   "metadata": {},
   "outputs": [
    {
     "name": "stdout",
     "output_type": "stream",
     "text": [
      "[3, 4, 5]\n",
      "[3, 5, 4]\n",
      "[5, 3, 4]\n",
      "[5, 4, 3]\n",
      "[4, 5, 3]\n",
      "[4, 3, 5]\n"
     ]
    }
   ],
   "source": [
    "x = permute(seq[len(seq)-3:])"
   ]
  },
  {
   "cell_type": "code",
   "execution_count": 130,
   "metadata": {},
   "outputs": [
    {
     "name": "stdout",
     "output_type": "stream",
     "text": [
      "[3, 4, 5]\n",
      "[3, 4, 5]\n",
      "[3, 4, 5]\n",
      "[3, 4, 5]\n",
      "[3, 4, 5]\n",
      "[3, 4, 5]\n"
     ]
    }
   ],
   "source": [
    "for l1 in permute(seq[len(seq)-3:]):\n",
    "    print(l1)"
   ]
  },
  {
   "cell_type": "code",
   "execution_count": 124,
   "metadata": {},
   "outputs": [
    {
     "data": {
      "text/plain": [
       "[3, 4, 5]"
      ]
     },
     "execution_count": 124,
     "metadata": {},
     "output_type": "execute_result"
    }
   ],
   "source": [
    "x[1]"
   ]
  },
  {
   "cell_type": "code",
   "execution_count": 31,
   "metadata": {},
   "outputs": [
    {
     "ename": "IndentationError",
     "evalue": "unexpected indent (<ipython-input-31-ce4bf3881086>, line 10)",
     "output_type": "error",
     "traceback": [
      "\u001b[0;36m  File \u001b[0;32m\"<ipython-input-31-ce4bf3881086>\"\u001b[0;36m, line \u001b[0;32m10\u001b[0m\n\u001b[0;31m    seq[i],seq[i-1] = seq[i-1],seq[i]\u001b[0m\n\u001b[0m    ^\u001b[0m\n\u001b[0;31mIndentationError\u001b[0m\u001b[0;31m:\u001b[0m unexpected indent\n"
     ]
    }
   ],
   "source": [
    "seq_all = []\n",
    "for i in range(0,len(seq)):\n",
    "    \n",
    "    j = 2\n",
    "    while j > 0:\n",
    "        i = len(seq)-1\n",
    "        \n",
    "        #for i in reversed(range(len(seq)-2,len(seq))):\n",
    "        \n",
    "            seq[i],seq[i-1] = seq[i-1],seq[i]\n",
    "            print(seq)\n",
    "            seq_all.append(seq)\n",
    "            j-=1\n",
    "    seq[len(seq)-3],seq[len(seq)-4] = seq[len(seq)-4],seq[len(seq)-3]\n",
    "        \n",
    "        "
   ]
  },
  {
   "cell_type": "code",
   "execution_count": 70,
   "metadata": {},
   "outputs": [
    {
     "data": {
      "text/plain": [
       "[1, 2, 3, 4]"
      ]
     },
     "execution_count": 70,
     "metadata": {},
     "output_type": "execute_result"
    }
   ],
   "source": [
    "a = 4\n",
    "seq = []\n",
    "for i in range(1,a+1):\n",
    "    seq.append(i)\n",
    "seq  "
   ]
  },
  {
   "cell_type": "code",
   "execution_count": 65,
   "metadata": {},
   "outputs": [
    {
     "name": "stdout",
     "output_type": "stream",
     "text": [
      "3\n",
      "2\n"
     ]
    }
   ],
   "source": [
    "for i in reversed(range(len(seq)-2,len(seq))):\n",
    "    print(i)"
   ]
  },
  {
   "cell_type": "code",
   "execution_count": 71,
   "metadata": {},
   "outputs": [
    {
     "name": "stdout",
     "output_type": "stream",
     "text": [
      "[1, 2, 4, 3]\n"
     ]
    }
   ],
   "source": [
    "#for i in reversed(range(len(seq)-2,len(seq))):\n",
    "seq[len(seq)-1],seq[len(seq)-2] = seq[len(seq)-2],seq[len(seq)-1]\n",
    "print(seq)\n",
    "seq_all.append(seq)"
   ]
  },
  {
   "cell_type": "code",
   "execution_count": 67,
   "metadata": {},
   "outputs": [
    {
     "name": "stdout",
     "output_type": "stream",
     "text": [
      "[1, 2, 4, 3]\n",
      "[1, 4, 2, 3]\n"
     ]
    }
   ],
   "source": [
    "for i in reversed(range(len(seq)-2,len(seq))):\n",
    "    seq[i],seq[i-1] = seq[i-1],seq[i]\n",
    "    print(seq)\n",
    "    seq_all.append(seq)"
   ]
  },
  {
   "cell_type": "code",
   "execution_count": 12,
   "metadata": {},
   "outputs": [
    {
     "data": {
      "text/plain": [
       "[[1, 2, 3, 4],\n",
       " [1, 2, 3, 4],\n",
       " [1, 2, 3, 4],\n",
       " [1, 2, 3, 4],\n",
       " [1, 2, 3, 4],\n",
       " [1, 2, 3, 4],\n",
       " [1, 2, 3, 4],\n",
       " [1, 2, 3, 4],\n",
       " [1, 2, 3, 4],\n",
       " [1, 2, 3, 4],\n",
       " [1, 2, 3, 4],\n",
       " [1, 2, 3, 4],\n",
       " [1, 2, 3, 4],\n",
       " [1, 2, 3, 4],\n",
       " [1, 2, 3, 4],\n",
       " [1, 2, 3, 4],\n",
       " [1, 2, 3, 4],\n",
       " [1, 2, 3, 4],\n",
       " [1, 2, 3, 4],\n",
       " [1, 2, 3, 4],\n",
       " [1, 2, 3, 4],\n",
       " [1, 2, 3, 4],\n",
       " [1, 2, 3, 4],\n",
       " [1, 2, 3, 4]]"
      ]
     },
     "execution_count": 12,
     "metadata": {},
     "output_type": "execute_result"
    }
   ],
   "source": [
    "seq_all"
   ]
  },
  {
   "cell_type": "code",
   "execution_count": null,
   "metadata": {},
   "outputs": [],
   "source": [
    "for i in range(a,a-3):\n",
    "    seq[]"
   ]
  },
  {
   "cell_type": "code",
   "execution_count": null,
   "metadata": {},
   "outputs": [],
   "source": []
  },
  {
   "cell_type": "code",
   "execution_count": 21,
   "metadata": {},
   "outputs": [
    {
     "name": "stdout",
     "output_type": "stream",
     "text": [
      "None\n"
     ]
    }
   ],
   "source": [
    "print(test)"
   ]
  },
  {
   "cell_type": "code",
   "execution_count": 25,
   "metadata": {},
   "outputs": [
    {
     "name": "stdout",
     "output_type": "stream",
     "text": [
      "DNA_count.py\t\t\t\t\t       rosalind_iprb.py\n",
      "Div,\\ Grad,\\ Curl,\\ and\\ all\\ that,\\ H.\\ M.\\ Shey.pdf  rosalind_iprb.txt\n",
      "Nucleo_atac_rosalind.pdf\t\t\t       rosalind_iprb_ans.txt\n",
      "RNA_transcript.py\t\t\t\t       rosalind_prob.txt\n",
      "Rosalind_problems.ipynb\t\t\t\t       rosalind_prtm.py\n",
      "Untitled.ipynb\t\t\t\t\t       rosalind_prtm.txt\n",
      "gky643_supplemental_files.zip\t\t\t       rosalind_prtm_ans.txt\n",
      "helper_func.py\t\t\t\t\t       rosalind_revc.py\n",
      "permutations-Copy1.ipynb\t\t\t       rosalind_revc.txt\n",
      "permutations.ipynb\t\t\t\t       rosalind_revc_ans.txt\n",
      "prot_mass.txt\t\t\t\t\t       rosalind_rna.txt\n",
      "rosalind_cons.py\t\t\t\t       rosalind_rna_ans.txt\n",
      "rosalind_cons.txt\t\t\t\t       rosalind_splc.py\n",
      "rosalind_cons_ans.txt\t\t\t\t       rosalind_splc.txt\n",
      "rosalind_dna.txt\t\t\t\t       rosalind_splc_2.txt\n",
      "rosalind_dna_5_output.txt\t\t\t       rosalind_splc_3.txt\n",
      "rosalind_dna_ans.txt\t\t\t\t       rosalind_splc_4.txt\n",
      "rosalind_fib.py\t\t\t\t\t       rosalind_subs.py\n",
      "rosalind_fib.txt\t\t\t\t       rosalind_subs.txt\n",
      "rosalind_fib_ans.txt\t\t\t\t       rosalind_subs_ans.txt\n",
      "rosalind_fibd.py\t\t\t\t       rosalind_test.txt\n",
      "rosalind_fibd.txt\t\t\t\t       rosalind_tran.txt\n",
      "rosalind_gc.py\t\t\t\t\t       rosalind_tree.pdf\n",
      "rosalind_gc.txt\t\t\t\t\t       rosalind_tree.py\n",
      "rosalind_gc_ans.txt\t\t\t\t       rosalind_tree.txt\n",
      "rosalind_grph.py\t\t\t\t       rosalind_tree_small.txt\n",
      "rosalind_grph.txt\t\t\t\t       softmax.py\n",
      "rosalind_grph_ans.txt\t\t\t\t       test.txt\n",
      "rosalind_grph_str_ans.txt\t\t\t       tran.ipynb\n",
      "rosalind_hamm.py\t\t\t\t       tran.txt\n",
      "rosalind_hamm.txt\t\t\t\t       venv\n",
      "rosalind_hamm_ans.txt\n"
     ]
    }
   ],
   "source": [
    "!dir"
   ]
  },
  {
   "cell_type": "code",
   "execution_count": 41,
   "metadata": {},
   "outputs": [
    {
     "name": "stdout",
     "output_type": "stream",
     "text": [
      "5040\n"
     ]
    }
   ],
   "source": [
    "import math\n",
    "print(math.factorial(7))"
   ]
  },
  {
   "cell_type": "code",
   "execution_count": 45,
   "metadata": {},
   "outputs": [
    {
     "name": "stdout",
     "output_type": "stream",
     "text": [
      "Enter the numbers\n"
     ]
    },
    {
     "name": "stdin",
     "output_type": "stream",
     "text": [
      " 1 2 3 4 5 6\n"
     ]
    }
   ],
   "source": [
    "print (\"Enter the numbers\")\n",
    "a = input()\n",
    "#converting all elements of array to integer\n",
    "a = list(map(int,a.split()))\n",
    "\n",
    "\n",
    "with open('permutations.txt', 'w') as f:\n",
    "    f.write(\"%s\\n\" % str(math.factorial(len(a))))\n",
    "\n",
    "new_list= list()\n",
    "def permutation(start, end):\n",
    "    lst = []\n",
    "    #print(end,start)\n",
    "    if end==start:\n",
    "        #print(a,1)\n",
    "        #lst.append(a)\n",
    "        with open('permutations.txt', 'a') as f:\n",
    "            f.write(\"%s\\n\" % str(a).strip('[]').replace(',', ' '))\n",
    "    for i in range(start, end+1):\n",
    "        #print(end,start,i)\n",
    "        #swapping\n",
    "        #print(a,\"test1\")\n",
    "        a[i],a[start] = a[start],a[i]\n",
    "        #calling permutation function\n",
    "        #by keeping the element at the index start fixed\n",
    "        #print(a,\"test2\")\n",
    "        permutation(start+1, end)\n",
    "        #return(permutation(start+1, end,lst))\n",
    "    \n",
    "        #restoring the array\n",
    "        a[i],a[start] = a[start],a[i]\n",
    "        \n",
    "        #return(lst)\n",
    "new_l = permutation(0,len(a)-1)\n"
   ]
  },
  {
   "cell_type": "code",
   "execution_count": 24,
   "metadata": {},
   "outputs": [
    {
     "data": {
      "text/plain": [
       "[]"
      ]
     },
     "execution_count": 24,
     "metadata": {},
     "output_type": "execute_result"
    }
   ],
   "source": [
    "new_l"
   ]
  },
  {
   "cell_type": "code",
   "execution_count": 2,
   "metadata": {},
   "outputs": [],
   "source": [
    "test"
   ]
  },
  {
   "cell_type": "code",
   "execution_count": 14,
   "metadata": {},
   "outputs": [
    {
     "ename": "NameError",
     "evalue": "name 'ans' is not defined",
     "output_type": "error",
     "traceback": [
      "\u001b[0;31m---------------------------------------------------------------------------\u001b[0m",
      "\u001b[0;31mNameError\u001b[0m                                 Traceback (most recent call last)",
      "\u001b[0;32m<ipython-input-14-b0e96a6ac391>\u001b[0m in \u001b[0;36m<module>\u001b[0;34m\u001b[0m\n\u001b[0;32m----> 1\u001b[0;31m \u001b[0mans\u001b[0m\u001b[0;34m\u001b[0m\u001b[0;34m\u001b[0m\u001b[0m\n\u001b[0m",
      "\u001b[0;31mNameError\u001b[0m: name 'ans' is not defined"
     ]
    }
   ],
   "source": [
    "ans"
   ]
  },
  {
   "cell_type": "code",
   "execution_count": 13,
   "metadata": {},
   "outputs": [
    {
     "ename": "NameError",
     "evalue": "name 'ans' is not defined",
     "output_type": "error",
     "traceback": [
      "\u001b[0;31m---------------------------------------------------------------------------\u001b[0m",
      "\u001b[0;31mNameError\u001b[0m                                 Traceback (most recent call last)",
      "\u001b[0;32m<ipython-input-13-b0e96a6ac391>\u001b[0m in \u001b[0;36m<module>\u001b[0;34m\u001b[0m\n\u001b[0;32m----> 1\u001b[0;31m \u001b[0mans\u001b[0m\u001b[0;34m\u001b[0m\u001b[0;34m\u001b[0m\u001b[0m\n\u001b[0m",
      "\u001b[0;31mNameError\u001b[0m: name 'ans' is not defined"
     ]
    }
   ],
   "source": []
  }
 ],
 "metadata": {
  "kernelspec": {
   "display_name": "Python 3",
   "language": "python",
   "name": "python3"
  },
  "language_info": {
   "codemirror_mode": {
    "name": "ipython",
    "version": 3
   },
   "file_extension": ".py",
   "mimetype": "text/x-python",
   "name": "python",
   "nbconvert_exporter": "python",
   "pygments_lexer": "ipython3",
   "version": "3.8.2"
  }
 },
 "nbformat": 4,
 "nbformat_minor": 4
}
