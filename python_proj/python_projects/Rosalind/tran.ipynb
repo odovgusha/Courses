{
 "cells": [
  {
   "cell_type": "code",
   "execution_count": 1,
   "metadata": {},
   "outputs": [],
   "source": [
    "a = \"GCAACGCACAACGAAAACCCTTAGGGACTGGATTATTTCGTGATCGTTGTAGTTATTGGAAGTACGGGCATCAACCCAGTT\"\n",
    "b = \"TTATCTGACAAAGAAAGCCGTCAACGGCTGGATAATTTCGCGATCGTGCTGGTTACTGGCGGTACGAGTGTTCCTTTGGGT\""
   ]
  },
  {
   "cell_type": "code",
   "execution_count": 31,
   "metadata": {},
   "outputs": [
    {
     "name": "stdout",
     "output_type": "stream",
     "text": [
      "GGTTTTGCATCTAAGGCGAAATTCAAGCAACTCTGAGCTGACCTTGCGCTAGGCTCGCCGGTGCAGAGAACGAATGAAGAAGGCTCGAAAGTAAGGGCAGTAAACCTGCCGGCCGAAACCAAGTGCACGCCTCGATTAATGACCTAAGGTTGCTCCCTCGGCTCCAGCCGGATCTCGATTCGTGCCAAGGATCCCTCAGTCGCAGTAAGTCCGCTATGATACGCTCATCGTTCGTCCGCAAGGCCCTGCCATGATTTCCGACAAAGTGATGGGTACGATGTGGTCCGTGGCGCGTCTCTGTTCTTCCATATCTCGGTAGCGTGCGCGCCTAAGCCTCGCCTACCGCGAGTCCATCGACCGAGAACCCACGCACACAAATTTATTAGGATGAACATTAGGAAATACTGGCTGTTGGGACGGGCTAGGAGTCAGATGACAGCGGGTATTAGATCTGTGTTGGCTATTACAAAGGGTCGGCATTGTCTCACGAAACTTGTAACAGTAGAGTTACAAGTTCGGACCGTACTCAACTCCTTAGTGCACTACAGGCCGCCCGGGCCGCTAATACTGGGATCGCGGAACAAATAGTCGCACGGCACTTTGCAGCCCGCGCACCAAGTTACTAGCCACCCCCGTATTGCGCTGATTAATCCAGTAGTAGCATTTTTCACATCCAAGAGCCCCCGTTAGCCGATGCTCCTTTATATCCTGTTTTGAACGCAAATTTGTGGTTTCATTACTGGTATAAAGCTTTCACGAACACAAGTATTTCGTGCCGCAAATAGGGCATAGCGATCTGTTAGTCTGACAAGCAAGATTGGCCTCGGTGTCCGGACCGAGGGTTTGAACACAACAGCCCAGAAGTTTATGCGCAGTGCTGACTTCAGTACGGGTATAAAGGACTGCTGAAACAC\n"
     ]
    }
   ],
   "source": [
    "file = \"rosalind_tran.txt\"\n",
    "dna_seq = []\n",
    "a = 0\n",
    "parsing = False\n",
    "with open(file, 'r') as f:\n",
    "    inRecordingMode = False\n",
    "    new_line = \"\"\n",
    "    for line in f:\n",
    "        if not inRecordingMode:\n",
    "            if line.startswith('>'):\n",
    "                #print(line)\n",
    "                inRecordingMode = True\n",
    "        elif line.startswith('>'):\n",
    "            #print(line)\n",
    "            dna_seq.append(new_line)\n",
    "            print(new_line)\n",
    "            new_line = \"\"\n",
    "            inRecodingMode = False\n",
    "        else:\n",
    "            new_line+=(line.strip())\n",
    "    else:\n",
    "        dna_seq.append(new_line)"
   ]
  },
  {
   "cell_type": "code",
   "execution_count": 32,
   "metadata": {},
   "outputs": [
    {
     "data": {
      "text/plain": [
       "['GGTTTTGCATCTAAGGCGAAATTCAAGCAACTCTGAGCTGACCTTGCGCTAGGCTCGCCGGTGCAGAGAACGAATGAAGAAGGCTCGAAAGTAAGGGCAGTAAACCTGCCGGCCGAAACCAAGTGCACGCCTCGATTAATGACCTAAGGTTGCTCCCTCGGCTCCAGCCGGATCTCGATTCGTGCCAAGGATCCCTCAGTCGCAGTAAGTCCGCTATGATACGCTCATCGTTCGTCCGCAAGGCCCTGCCATGATTTCCGACAAAGTGATGGGTACGATGTGGTCCGTGGCGCGTCTCTGTTCTTCCATATCTCGGTAGCGTGCGCGCCTAAGCCTCGCCTACCGCGAGTCCATCGACCGAGAACCCACGCACACAAATTTATTAGGATGAACATTAGGAAATACTGGCTGTTGGGACGGGCTAGGAGTCAGATGACAGCGGGTATTAGATCTGTGTTGGCTATTACAAAGGGTCGGCATTGTCTCACGAAACTTGTAACAGTAGAGTTACAAGTTCGGACCGTACTCAACTCCTTAGTGCACTACAGGCCGCCCGGGCCGCTAATACTGGGATCGCGGAACAAATAGTCGCACGGCACTTTGCAGCCCGCGCACCAAGTTACTAGCCACCCCCGTATTGCGCTGATTAATCCAGTAGTAGCATTTTTCACATCCAAGAGCCCCCGTTAGCCGATGCTCCTTTATATCCTGTTTTGAACGCAAATTTGTGGTTTCATTACTGGTATAAAGCTTTCACGAACACAAGTATTTCGTGCCGCAAATAGGGCATAGCGATCTGTTAGTCTGACAAGCAAGATTGGCCTCGGTGTCCGGACCGAGGGTTTGAACACAACAGCCCAGAAGTTTATGCGCAGTGCTGACTTCAGTACGGGTATAAAGGACTGCTGAAACAC',\n",
       " 'GGTTTTGGGGCTAGGGTGACATCCAGGTAACTTCGAGTTGGACTTGCACCGGGGCCGCCAGCGCGCAGGACGAATGAAGAAAACCCCGAAGTCAAGGCGGCAATCCCGCTGAACGAGACCAAGCACACACTCCATCTAATAACGCAAGGCTGCTTCTTCGGCTTTGATTTGATCTCGATTCTTGACAATGATCCCTCAATTGCAGTAAGTACGCTATGGTACCTCCTTCGTTAGTCCGCGAGGTTCTACCATTGTTACTGTCAAAGTGGCGGATATGATGTGGCACGAGGCGTGGCCCAATTCGTCCATGTCTCGGTAGCGTACGCCCAGAAGCCCCGCTTATTGTGAATCCACTATCTGGAAACCCACTTACTCAGATTCGTTTGGATGAACATCAGGAAATGCTAGTTGTTGGATCGGACCGGGAGTCAGGTGACGGCCGATAGTAGGATAATATTGGTTCTCGCAAAGGTTCGTCGTTCTCTCTATACTCTTGGAACCGTAGGGTTATAAGTAGGGACCGTACTCCACCTCCTAGCATACTCCAGGCTGTCCGAGTCGCTAATACTGGAGCGGTGGCTCGAAGAGTCATAGGGCACTTTGCCGCTTGCGCACCAAGTTACTAGAGACTCCTGTACTGCATTAGTTAGCTCAGTATTGGCTTTTGCCACAATCTAGAGCCCTCGTTAACTAGTGCTTCTCTGTGTCCTGTCTTACAGACGACTCTGTGGTTTAGTTATAGACATAGGGCGTACATGGACATTTGTATTCTGCCACATAAGTAGGGGATCATGATCTGCCGTTCTGGCTAGCAAGATTCGCGCTGGTATCCGGACCGAGAGTCGCAAGACAACGGCACAGCGATTTATGCATAGTGTCAACTCCAGTAAGGCTAGGACAAACTACAGGAGTAC']"
      ]
     },
     "execution_count": 32,
     "metadata": {},
     "output_type": "execute_result"
    }
   ],
   "source": [
    "dna_seq"
   ]
  },
  {
   "cell_type": "code",
   "execution_count": 3,
   "metadata": {},
   "outputs": [
    {
     "data": {
      "text/plain": [
       "81"
      ]
     },
     "execution_count": 3,
     "metadata": {},
     "output_type": "execute_result"
    }
   ],
   "source": [
    "len(b)"
   ]
  },
  {
   "cell_type": "code",
   "execution_count": 26,
   "metadata": {},
   "outputs": [],
   "source": [
    "def tr_ts_ratio(seq1,seq2):\n",
    "    tv = 0\n",
    "    ts = 0\n",
    "    for i in range(0,len(seq1)):\n",
    "        if seq1[i] == seq2[i]:\n",
    "            continue\n",
    "        elif (seq1[i] == \"A\" and seq2[i] == \"G\") or \\\n",
    "        (seq1[i] == \"C\" and seq2[i] == \"T\") or \\\n",
    "        (seq1[i] == \"G\" and seq2[i] == \"A\") or \\\n",
    "        (seq1[i] == \"T\" and seq2[i] == \"C\"):\n",
    "            ts += 1\n",
    "        elif (seq1[i] == \"A\" and seq2[i] == \"T\") or \\\n",
    "        (seq1[i] == \"A\" and seq2[i] == \"C\") or \\\n",
    "        (seq1[i] == \"T\" and seq2[i] == \"A\") or \\\n",
    "        (seq1[i] == \"C\" and seq2[i] == \"A\") or \\\n",
    "        (seq1[i] == \"G\" and seq2[i] == \"T\") or \\\n",
    "        (seq1[i] == \"T\" and seq2[i] == \"G\") or \\\n",
    "        (seq1[i] == \"G\" and seq2[i] == \"C\") or \\\n",
    "        (seq1[i] == \"C\" and seq2[i] == \"G\"):\n",
    "            tv += 1\n",
    "    return (ts/tv)\n",
    "    "
   ]
  },
  {
   "cell_type": "code",
   "execution_count": 33,
   "metadata": {},
   "outputs": [
    {
     "data": {
      "text/plain": [
       "2.031578947368421"
      ]
     },
     "execution_count": 33,
     "metadata": {},
     "output_type": "execute_result"
    }
   ],
   "source": [
    "tr_ts_ratio(dna_seq[0],dna_seq[1])"
   ]
  },
  {
   "cell_type": "code",
   "execution_count": 21,
   "metadata": {},
   "outputs": [
    {
     "data": {
      "text/plain": [
       "'TTATCTGACAAAGAAAGCCGTCAACGGCTGGATAATTTCGCGATCGTGCTGGTTACTGGCGGTACGAGTGTTCCTTTGGGT'"
      ]
     },
     "execution_count": 21,
     "metadata": {},
     "output_type": "execute_result"
    }
   ],
   "source": [
    "dna_seq[1]"
   ]
  }
 ],
 "metadata": {
  "kernelspec": {
   "display_name": "Python 3",
   "language": "python",
   "name": "python3"
  },
  "language_info": {
   "codemirror_mode": {
    "name": "ipython",
    "version": 3
   },
   "file_extension": ".py",
   "mimetype": "text/x-python",
   "name": "python",
   "nbconvert_exporter": "python",
   "pygments_lexer": "ipython3",
   "version": "3.8.2"
  }
 },
 "nbformat": 4,
 "nbformat_minor": 4
}
