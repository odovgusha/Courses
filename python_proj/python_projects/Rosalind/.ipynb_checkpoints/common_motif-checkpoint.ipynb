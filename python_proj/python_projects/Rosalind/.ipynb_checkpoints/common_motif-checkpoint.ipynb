{
 "cells": [
  {
   "cell_type": "code",
   "execution_count": 2,
   "metadata": {},
   "outputs": [],
   "source": [
    "#file = \"rosalind_lcsm.txt\"\n",
    "file = \"untitled1.txt\"\n",
    "dna_seq = []\n",
    "a = 0\n",
    "parsing = False\n",
    "with open(file, 'r') as f:\n",
    "    inRecordingMode = False\n",
    "    new_line = \"\"\n",
    "    for line in f:\n",
    "        if not inRecordingMode:\n",
    "            if line.startswith('>'):\n",
    "                #print(line)\n",
    "                inRecordingMode = True\n",
    "        elif line.startswith('>'):\n",
    "            #print(line)\n",
    "            dna_seq.append(new_line)\n",
    "            #print(new_line)\n",
    "            new_line = \"\"\n",
    "            inRecodingMode = False\n",
    "        else:\n",
    "            new_line+=(line.strip())\n",
    "    else:\n",
    "        dna_seq.append(new_line)\n"
   ]
  },
  {
   "cell_type": "code",
   "execution_count": 131,
   "metadata": {},
   "outputs": [],
   "source": [
    "test = min(dna_seq, key=len)"
   ]
  },
  {
   "cell_type": "code",
   "execution_count": 132,
   "metadata": {},
   "outputs": [],
   "source": [
    "sequences = dna_seq"
   ]
  },
  {
   "cell_type": "code",
   "execution_count": 105,
   "metadata": {},
   "outputs": [
    {
     "name": "stdout",
     "output_type": "stream",
     "text": [
      "1000\n"
     ]
    }
   ],
   "source": [
    "test = \"CTGGCGAAATCGCTGTATGTCTATACCTACAAAAGGCATGATCGCTATGTCCCACGTGCGATATCGATTGAAGCTTCGG\"\n",
    "for seq in comp_seq:        \n",
    "    if test in seq:                \n",
    "        found = True            \n",
    "    else:                        \n",
    "        found = False           \n",
    "        break          \n",
    "print(len(short_seq))\n"
   ]
  },
  {
   "cell_type": "code",
   "execution_count": 237,
   "metadata": {},
   "outputs": [
    {
     "data": {
      "text/plain": [
       "range(0, 1000)"
      ]
     },
     "execution_count": 237,
     "metadata": {},
     "output_type": "execute_result"
    }
   ],
   "source": [
    "range(len(short_seq))"
   ]
  },
  {
   "cell_type": "code",
   "execution_count": 133,
   "metadata": {},
   "outputs": [
    {
     "data": {
      "text/plain": [
       "'TTTACAAGCGCCTCAGTCAGTCTCTAGTAGATTGAGCCATTGTCACCCTGCAAGGCTTCATCGGGCGGTTTTATACAGATCTGATTACATTGACTCTGAGGTCTCACGAAGTTTACGTAGGTTCCCGCTTGGTCAGATAACAGGTCCCAGAGGTCGCTGCGGGGAATCCTCGCAGTGGCCTCTGCCGGGGCTTGAAGGGGTTCGACCGATCGATTCCTCCATCGCGAAGATGGGCGTTTACAGCCACCATGTGACCTTCTCCACGGTACACAGGGCGGGCAATACACCAAATTGGTAACCATCACCGAATGGGTGGTGGTATGGTTCGTTGACTTAGAAAGACAAAAAGGACCTCATGCCCCAGGAGCGTTACAGTTGCCGCCGTACAAATGGTCCGTAGCACCATCTGGCTTCCCACTTTATCGTCCGGTGGGTCCGCCCTCAGAGGCAAGCCATGCCGGTGTCTTTATCAAGGAGTTGACGCCGCAGCTGACTGGTCACAGAACTTTGCAATTCATTAGGAGTCCTGGGCGTGTTAGTCTCTAACGGCAGAAAACTAAGGGTTTTAAACTATGAGGCCCATCTGAGACAACAGCGTGTTGGATGATCACTACTGAAGTGCCAAACGACGGTGGTAATTGGTTCCACACGATGATTCAATGGTCTCGATAATGCTCACAGCAAGTTCTCCGCCCCGCGATGAAGGGGCATGACTCATACGATGTCTACATACGTGTCAACCTGGTCTTCGGCGACGGAGCTCGACAATGCTAGGCGGACTTTAGCTGAGGATTCCCAGGTATGTACAGTGCTCGGCTGGCGGTGTGACGATCACCATTTTATATTAGCTTAACTGGCGAAATCGCTGTATGTCTATACCTACAAAAGGCATGATCGCTATGTCCCACGTGCGATATCGATTGAAGCTTCGGCGTTAGTTTCGTTTTACTGTCTCAGGTGAGGTTTCTATCGTTGCGTTGGCGCAGTGGTTGCCTGCGTGFF'"
      ]
     },
     "execution_count": 133,
     "metadata": {},
     "output_type": "execute_result"
    }
   ],
   "source": [
    "comp_seq[98]d"
   ]
  },
  {
   "cell_type": "code",
   "execution_count": 11,
   "metadata": {},
   "outputs": [
    {
     "data": {
      "text/plain": [
       "'TTTACAAGCGCCTCAGTCAGTCTCTAGTAGATTGAGCCATTGTCACCCTGCAAGGCTTCATCGGGCGGTTTTATACAGATCTGATTACATTGACTCTGAGGTCTCACGAAGTTTACGTAGGTTCCCGCTTGGTCAGATAACAGGTCCCAGAGGTCGCTGCGGGGAATCCTCGCAGTGGCCTCTGCCGGGGCTTGAAGGGGTTCGACCGATCGATTCCTCCATCGCGAAGATGGGCGTTTACAGCCACCATGTGACCTTCTCCACGGTACACAGGGCGGGCAATACACCAAATTGGTAACCATCACCGAATGGGTGGTGGTATGGTTCGTTGACTTAGAAAGACAAAAAGGACCTCATGCCCCAGGAGCGTTACAGTTGCCGCCGTACAAATGGTCCGTAGCACCATCTGGCTTCCCACTTTATCGTCCGGTGGGTCCGCCCTCAGAGGCAAGCCATGCCGGTGTCTTTATCAAGGAGTTGACGCCGCAGCTGACTGGTCACAGAACTTTGCAATTCATTAGGAGTCCTGGGCGTGTTAGTCTCTAACGGCAGAAAACTAAGGGTTTTAAACTATGAGGCCCATCTGAGACAACAGCGTGTTGGATGATCACTACTGAAGTGCCAAACGACGGTGGTAATTGGTTCCACACGATGATTCAATGGTCTCGATAATGCTCACAGCAAGTTCTCCGCCCCGCGATGAAGGGGCATGACTCATACGATGTCTACATACGTGTCAACCTGGTCTTCGGCGACGGAGCTCGACAATGCTAGGCGGACTTTAGCTGAGGATTCCCAGGTATGTACAGTGCTCGGCTGGCGGTGTGACGATCACCATTTTATATTAGCTTAACTGGCGAAATCGCTGTATGTCTATACCTACAAAAGGCATGATCGCTATGTCCCACGTGCGATATCGATTGAAGCTTCGGCGTTAGTTTCGTTTTACTGTCTCAGGTGAGGTTTCTATCGTTGCGTTGGCGCAGTGGTTGCCTGCGTG'"
      ]
     },
     "execution_count": 11,
     "metadata": {},
     "output_type": "execute_result"
    }
   ],
   "source": [
    "short_seq"
   ]
  },
  {
   "cell_type": "code",
   "execution_count": 14,
   "metadata": {},
   "outputs": [
    {
     "name": "stdout",
     "output_type": "stream",
     "text": [
      "9\n",
      "8\n",
      "7\n",
      "6\n",
      "5\n",
      "4\n",
      "3\n",
      "2\n",
      "1\n"
     ]
    }
   ],
   "source": [
    "for i in reversed(range(1,10)):\n",
    "    print(i)"
   ]
  },
  {
   "cell_type": "code",
   "execution_count": 5,
   "metadata": {},
   "outputs": [
    {
     "name": "stdout",
     "output_type": "stream",
     "text": [
      "10.010248899459839\n"
     ]
    }
   ],
   "source": [
    "import time\n",
    "start = time.time()\n",
    "\n",
    "time.sleep(10)  # or do something more productive\n",
    "\n",
    "done = time.time()\n",
    "elapsed = done - start\n",
    "print(elapsed)"
   ]
  },
  {
   "cell_type": "code",
   "execution_count": 19,
   "metadata": {},
   "outputs": [],
   "source": [
    "def common_motif(seq):\n",
    "    start = time.time()\n",
    "    sequences = dna_seq\n",
    "    srt_seq = sorted(sequences, key=len)     \n",
    "    short_seq = srt_seq[0]                   \n",
    "    comp_seq = srt_seq[1:]                   \n",
    "    motif = ''            \n",
    "    #print(len(short_seq))\n",
    "    for j in reversed(range(0, len(short_seq))): \n",
    "        for i in range(0,len(short_seq)-j):\n",
    "        #print(i)\n",
    "          \n",
    "            #print(i,(i+j + 1))\n",
    "            m = short_seq[i:(i+j + 1)] \n",
    "            #print(m)\n",
    "            found = False                   \n",
    "            for sequ in comp_seq:            \n",
    "                if m in sequ:                \n",
    "                    found = True\n",
    "                    #print(\"one\")\n",
    "                else:                        \n",
    "                    found = False           \n",
    "                    break                   \n",
    "           # if found and len(m) > len(motif):\n",
    "           #     motif = m\n",
    "            if found:\n",
    "                motif = m\n",
    "                #print(i,j)\n",
    "                done = time.time()\n",
    "                elapsed = done - start\n",
    "                print(elapsed)\n",
    "                return(motif)\n",
    "                #break\n",
    "\n",
    "                #print(motif)\n",
    "                #return(motif)\n",
    "    done = time.time()\n",
    "    elapsed = done - start\n",
    "    print(elapsed)\n",
    "    print(motif)        \n",
    "        #print(len(short_seq), len(sequ))\n",
    "\n",
    "\n",
    "    \n"
   ]
  },
  {
   "cell_type": "code",
   "execution_count": 41,
   "metadata": {},
   "outputs": [],
   "source": [
    "#file = \"rosalind_lcsm.txt\"\n",
    "file = \"untitled1.txt\"\n",
    "dna_seq = []\n",
    "a = 0\n",
    "parsing = False\n",
    "with open(file, 'r') as f:\n",
    "    inRecordingMode = False\n",
    "    new_line = \"\"\n",
    "    for line in f:\n",
    "        if not inRecordingMode:\n",
    "            if line.startswith('>'):\n",
    "                #print(line)\n",
    "                inRecordingMode = True\n",
    "        elif line.startswith('>'):\n",
    "            #print(line)\n",
    "            dna_seq.append(new_line)\n",
    "            #print(new_line)\n",
    "            new_line = \"\"\n",
    "            inRecodingMode = False\n",
    "        else:\n",
    "            new_line+=(line.strip())\n",
    "    else:\n",
    "        dna_seq.append(new_line)"
   ]
  },
  {
   "cell_type": "code",
   "execution_count": 42,
   "metadata": {},
   "outputs": [
    {
     "data": {
      "text/plain": [
       "['ATTAGACCTG', 'CCTGCCGGAA', 'AGACCTGCCG', 'GCCGGAATAC']"
      ]
     },
     "execution_count": 42,
     "metadata": {},
     "output_type": "execute_result"
    }
   ],
   "source": [
    "dna_seq"
   ]
  },
  {
   "cell_type": "code",
   "execution_count": 52,
   "metadata": {},
   "outputs": [
    {
     "name": "stdout",
     "output_type": "stream",
     "text": [
      "0 1 comparison\n",
      "ATTAGACCTG\n",
      "CCTGCCGGAA\n",
      "0 2 comparison\n",
      "ATTAGACCTG\n",
      "AGACCTGCCG\n",
      "0 3 comparison\n",
      "ATTAGACCTG\n",
      "GCCGGAATAC\n",
      "1 0 comparison\n",
      "CCTGCCGGAA\n",
      "ATTAGACCTG\n",
      "AGACCTGCCGGAA\n",
      "0 7\n",
      "7\n",
      "1 2 comparison\n",
      "CCTGCCGGAA\n",
      "AGACCTGCCG\n",
      "1 3 comparison\n",
      "CCTGCCGGAA\n",
      "GCCGGAATAC\n",
      "ATTAGACCTGCCG\n",
      "0 7\n",
      "7\n",
      "2 0 comparison\n",
      "AGACCTGCCG\n",
      "ATTAGACCTG\n",
      "2 1 comparison\n",
      "AGACCTGCCG\n",
      "CCTGCCGGAA\n",
      "2 3 comparison\n",
      "AGACCTGCCG\n",
      "GCCGGAATAC\n",
      "3 0 comparison\n",
      "GCCGGAATAC\n",
      "ATTAGACCTG\n",
      "CCTGCCGGAATAC\n",
      "0 7\n",
      "7\n",
      "3 1 comparison\n",
      "GCCGGAATAC\n",
      "CCTGCCGGAA\n",
      "3 2 comparison\n",
      "GCCGGAATAC\n",
      "AGACCTGCCG\n"
     ]
    }
   ],
   "source": [
    "for seq1_n in range(len(dna_seq)):\n",
    "    seq2_range = list(range(len(dna_seq)))\n",
    "    seq2_range.remove(seq1_n)\n",
    "    for seq2_n in seq2_range:\n",
    "        common_motif_new(dna_seq[seq1_n],dna_seq[seq2_n])\n",
    "        print(\"______\")\n",
    "        print(seq1_n,seq2_n,\"comparison\")\n",
    "        print(dna_seq[seq1_n])\n",
    "        print(dna_seq[seq2_n])\n",
    "        print(\"______\")\n",
    "    \n",
    "    "
   ]
  },
  {
   "cell_type": "code",
   "execution_count": 49,
   "metadata": {},
   "outputs": [],
   "source": [
    "def common_motif_new(seq1,seq2):\n",
    "    start = time.time()\n",
    "    sequences = dna_seq\n",
    "    srt_seq = sorted(sequences, key=len)     \n",
    "    short_seq = seq1                   \n",
    "    sequ = seq2                   \n",
    "    motif = ''            \n",
    "    #print(len(short_seq))\n",
    "    for j in reversed(range(len(short_seq)//2, len(short_seq))): \n",
    "        for i in range(0,len(short_seq)-j):\n",
    "        #print(i)\n",
    "          \n",
    "            #print(i,(i+j + 1))\n",
    "            m = short_seq[i:(i+j + 1)] \n",
    "            #print(m)\n",
    "            found = False\n",
    "            edge = False\n",
    "            #for sequ in comp_seq:\n",
    "                \n",
    "            if m in sequ:                \n",
    "                found = True\n",
    "                #print(\"one\")\n",
    "            else:                        \n",
    "                found = False           \n",
    "                break\n",
    "                #if \n",
    "           # if found and len(m) > len(motif):\n",
    "           #     motif = m\n",
    "            if found:\n",
    "                if ((short_seq.index(m)==0 and sequ.index(m)+len(m) == len(sequ)) or (sequ.index(m)==0 and short_seq.index(m)+len(m) == len(short_seq))):\n",
    "                    if (short_seq.index(m)==0 and sequ.index(m)+len(m) == len(sequ)):\n",
    "                        print(sequ[:sequ.index(m)]+short_seq)\n",
    "                    else:\n",
    "                        print(short_seq[:short_seq.index(m)]+sequ)\n",
    "                        \n",
    "                    \n",
    "                    \n",
    "                    \n",
    "                    #edge=True\n",
    "                    motif = m\n",
    "                    #print(i,j)\n",
    "                    done = time.time()\n",
    "                    elapsed = done - start\n",
    "                    print(i,(i+j + 1))\n",
    "                    #print(dna_seq[0][i:(i+j + 1)],sequ)\n",
    "                    #print(i,(i+j + 1))\n",
    "                    #print(elapsed)\n",
    "                    print( short_seq.index(m)+len(m))\n",
    "                    return(motif,len(motif))\n",
    "                    #break\n",
    "                \n",
    "                #print(motif)\n",
    "                #return(motif)\n",
    "    done = time.time()\n",
    "    elapsed = done - start\n",
    "    #print(elapsed)\n",
    "    #print(motif)        \n",
    "        #print(len(short_seq), len(sequ))\n",
    "\n",
    "\n",
    "    \n"
   ]
  },
  {
   "cell_type": "code",
   "execution_count": 211,
   "metadata": {},
   "outputs": [
    {
     "name": "stdout",
     "output_type": "stream",
     "text": [
      "ban\n"
     ]
    }
   ],
   "source": [
    "s1=\"banana\"\n",
    "print (s1[s1.index(\"ban\"):s1.index(\"ban\")+len(\"ban\")])"
   ]
  },
  {
   "cell_type": "code",
   "execution_count": 184,
   "metadata": {},
   "outputs": [],
   "source": [
    "def common_motif(seq):\n",
    "    start = time.time()\n",
    "    sequences = dna_seq\n",
    "    srt_seq = sorted(sequences, key=len)     \n",
    "    short_seq = srt_seq[0]        \n",
    "    \n",
    "    comp_seq = srt_seq[1:]                   \n",
    "    motif = ''                               \n",
    "    for i in range(len(short_seq)):\n",
    "        #print(motif)\n",
    "        for j in range(i, len(short_seq)):   \n",
    "            #print(i,j)\n",
    "            m = short_seq[i:j + 1]           \n",
    "            found = False                   \n",
    "            for sequ in comp_seq:            \n",
    "                if m in sequ:                \n",
    "                    found = True\n",
    "                    #print(\"one\")\n",
    "                else:                        \n",
    "                    found = False           \n",
    "                    break                   \n",
    "            if found and len(m) > len(motif):\n",
    "                motif = m\n",
    "        #print(len(short_seq), len(sequ))\n",
    "    done = time.time()\n",
    "    elapsed = done - start\n",
    "    print(elapsed)\n",
    "    print(motif)\n",
    "\n",
    "    \n"
   ]
  },
  {
   "cell_type": "code",
   "execution_count": 197,
   "metadata": {},
   "outputs": [],
   "source": [
    "def common_motif_new(seq):\n",
    "    start = time.time()\n",
    "    sequences = dna_seq\n",
    "    srt_seq = sorted(sequences, key=len)     \n",
    "    short_seq = srt_seq[0]                   \n",
    "    comp_seq = srt_seq[1:]                   \n",
    "    motif = ''            \n",
    "    #print(len(short_seq))\n",
    "    for j in reversed(range(0, len(short_seq))): \n",
    "        for i in range(0,len(short_seq)-j):\n",
    "        #print(i)\n",
    "          \n",
    "            #print(i,(i+j + 1))\n",
    "            m = short_seq[i:(i+j + 1)] \n",
    "            #print(m)\n",
    "            found = False                   \n",
    "            for sequ in comp_seq:            \n",
    "                if m in sequ:                \n",
    "                    found = True\n",
    "                    #print(\"one\")\n",
    "                else:                        \n",
    "                    found = False           \n",
    "                    break                   \n",
    "           # if found and len(m) > len(motif):\n",
    "           #     motif = m\n",
    "            if found:\n",
    "                motif = m\n",
    "                #print(i,j)\n",
    "                done = time.time()\n",
    "                elapsed = done - start\n",
    "                print(elapsed)\n",
    "                return(motif)\n",
    "                #break\n",
    "\n",
    "                #print(motif)\n",
    "                #return(motif)\n",
    "    done = time.time()\n",
    "    elapsed = done - start\n",
    "    print(elapsed)\n",
    "    print(motif)        \n",
    "        #print(len(short_seq), len(sequ))\n",
    "\n",
    "\n",
    "    \n"
   ]
  },
  {
   "cell_type": "code",
   "execution_count": 185,
   "metadata": {},
   "outputs": [
    {
     "name": "stdout",
     "output_type": "stream",
     "text": [
      "4.506111145019531e-05\n",
      "CCTG\n"
     ]
    }
   ],
   "source": [
    "common_motif(dna_seq)"
   ]
  },
  {
   "cell_type": "code",
   "execution_count": 188,
   "metadata": {},
   "outputs": [
    {
     "name": "stdout",
     "output_type": "stream",
     "text": [
      "ATTAGACCTG\n",
      "CCTGCCGGAA\n"
     ]
    }
   ],
   "source": [
    "for i in dna_seq:\n",
    "    print(i)"
   ]
  },
  {
   "cell_type": "code",
   "execution_count": 5,
   "metadata": {},
   "outputs": [],
   "source": [
    "from datetime import datetime\n",
    "\n",
    "def common_motif(seq):\n",
    "    min_seq = 10\n",
    "    \n",
    "    seq = sorted(seq, key=len)\n",
    "    shortest_key = seq[0]\n",
    "    n_comb = 0\n",
    "    for i in range(1,len(shortest_key)-min_seq):\n",
    "        n_comb += i\n",
    "        \n",
    "    print(n_comb)\n",
    "    inf_list = seq[1:]\n",
    "    #print(shortest_key)\n",
    "    print(len(inf_list))\n",
    "    query_list = list()\n",
    "    sub_seq_dict = dict()\n",
    "    \n",
    "    n_comb_calc = 0\n",
    "    \n",
    "    for i in range(min_seq,len(shortest_key)+1):\n",
    "        #print(shortest_key)\n",
    "        for j in range(0,len(shortest_key)-(i-1)):\n",
    "            n_comb_calc+=1\n",
    "            if n_comb_calc % 1000 == 0:\n",
    "                now = datetime.now()\n",
    "                current_time = now.strftime(\"%H:%M:%S\")\n",
    "                print(\"Current Time =\", current_time)\n",
    "\n",
    "            query = shortest_key[0+j:i+j]\n",
    "            \n",
    "            if not query in sub_seq_dict:\n",
    "                sub_seq_dict[query] = 0\n",
    "            #print(query,\"query\",i,j)\n",
    "            #query_list.append(query)\n",
    "            #for inf in range(0,len(inf_list)):\n",
    "            \n",
    "            #l = 0\n",
    "            for inf in inf_list:\n",
    "                #l+=1\n",
    "                #print(l)\n",
    "                for k in range(0,len(inf)-len(query)+1):\n",
    "                    tar = inf[k:k+len(query)]\n",
    "                    #print(query,tar)\n",
    "                    if query == tar:\n",
    "                        sub_seq_dict[query] += 1\n",
    "                        break\n",
    "                    \n",
    "    motifs = [k for k,v in sub_seq_dict.items() if v == len(inf_list)]\n",
    "    longest_motif = sorted(motifs, key=len)\n",
    "    #print(\"longest_motif: \",longest_motif[0])\n",
    "                        \n",
    "                    \n",
    "    \n",
    "    return (sub_seq_dict,longest_motif[0])\n",
    "            "
   ]
  },
  {
   "cell_type": "code",
   "execution_count": 6,
   "metadata": {},
   "outputs": [
    {
     "name": "stdout",
     "output_type": "stream",
     "text": [
      "489555\n",
      "99\n"
     ]
    },
    {
     "ename": "KeyboardInterrupt",
     "evalue": "",
     "output_type": "error",
     "traceback": [
      "\u001b[0;31m---------------------------------------------------------------------------\u001b[0m",
      "\u001b[0;31mKeyboardInterrupt\u001b[0m                         Traceback (most recent call last)",
      "\u001b[0;32m<ipython-input-6-993985ca5993>\u001b[0m in \u001b[0;36m<module>\u001b[0;34m\u001b[0m\n\u001b[1;32m      1\u001b[0m \u001b[0;32mimport\u001b[0m \u001b[0mtime\u001b[0m\u001b[0;34m\u001b[0m\u001b[0;34m\u001b[0m\u001b[0m\n\u001b[0;32m----> 2\u001b[0;31m \u001b[0mall_seq\u001b[0m\u001b[0;34m,\u001b[0m \u001b[0mans\u001b[0m \u001b[0;34m=\u001b[0m \u001b[0mcommon_motif\u001b[0m\u001b[0;34m(\u001b[0m\u001b[0mdna_seq\u001b[0m\u001b[0;34m)\u001b[0m\u001b[0;34m\u001b[0m\u001b[0;34m\u001b[0m\u001b[0m\n\u001b[0m",
      "\u001b[0;32m<ipython-input-5-d697aebc0eec>\u001b[0m in \u001b[0;36mcommon_motif\u001b[0;34m(seq)\u001b[0m\n\u001b[1;32m     41\u001b[0m                 \u001b[0;31m#print(l)\u001b[0m\u001b[0;34m\u001b[0m\u001b[0;34m\u001b[0m\u001b[0;34m\u001b[0m\u001b[0m\n\u001b[1;32m     42\u001b[0m                 \u001b[0;32mfor\u001b[0m \u001b[0mk\u001b[0m \u001b[0;32min\u001b[0m \u001b[0mrange\u001b[0m\u001b[0;34m(\u001b[0m\u001b[0;36m0\u001b[0m\u001b[0;34m,\u001b[0m\u001b[0mlen\u001b[0m\u001b[0;34m(\u001b[0m\u001b[0minf\u001b[0m\u001b[0;34m)\u001b[0m\u001b[0;34m-\u001b[0m\u001b[0mlen\u001b[0m\u001b[0;34m(\u001b[0m\u001b[0mquery\u001b[0m\u001b[0;34m)\u001b[0m\u001b[0;34m+\u001b[0m\u001b[0;36m1\u001b[0m\u001b[0;34m)\u001b[0m\u001b[0;34m:\u001b[0m\u001b[0;34m\u001b[0m\u001b[0;34m\u001b[0m\u001b[0m\n\u001b[0;32m---> 43\u001b[0;31m                     \u001b[0mtar\u001b[0m \u001b[0;34m=\u001b[0m \u001b[0minf\u001b[0m\u001b[0;34m[\u001b[0m\u001b[0mk\u001b[0m\u001b[0;34m:\u001b[0m\u001b[0mk\u001b[0m\u001b[0;34m+\u001b[0m\u001b[0mlen\u001b[0m\u001b[0;34m(\u001b[0m\u001b[0mquery\u001b[0m\u001b[0;34m)\u001b[0m\u001b[0;34m]\u001b[0m\u001b[0;34m\u001b[0m\u001b[0;34m\u001b[0m\u001b[0m\n\u001b[0m\u001b[1;32m     44\u001b[0m                     \u001b[0;31m#print(query,tar)\u001b[0m\u001b[0;34m\u001b[0m\u001b[0;34m\u001b[0m\u001b[0;34m\u001b[0m\u001b[0m\n\u001b[1;32m     45\u001b[0m                     \u001b[0;32mif\u001b[0m \u001b[0mquery\u001b[0m \u001b[0;34m==\u001b[0m \u001b[0mtar\u001b[0m\u001b[0;34m:\u001b[0m\u001b[0;34m\u001b[0m\u001b[0;34m\u001b[0m\u001b[0m\n",
      "\u001b[0;31mKeyboardInterrupt\u001b[0m: "
     ]
    }
   ],
   "source": [
    "import time\n",
    "all_seq, ans = common_motif(dna_seq)"
   ]
  },
  {
   "cell_type": "code",
   "execution_count": 201,
   "metadata": {},
   "outputs": [
    {
     "data": {
      "text/plain": [
       "'ACCTGTTAAC'"
      ]
     },
     "execution_count": 201,
     "metadata": {},
     "output_type": "execute_result"
    }
   ],
   "source": [
    "ans"
   ]
  },
  {
   "cell_type": "code",
   "execution_count": 154,
   "metadata": {},
   "outputs": [
    {
     "data": {
      "text/plain": [
       "{'AT': 1,\n",
       " 'TA': 2,\n",
       " 'AC': 3,\n",
       " 'CA': 3,\n",
       " 'ATA': 0,\n",
       " 'TAC': 1,\n",
       " 'ACA': 2,\n",
       " 'ATAC': 0,\n",
       " 'TACA': 1,\n",
       " 'ATACA': 0}"
      ]
     },
     "execution_count": 154,
     "metadata": {},
     "output_type": "execute_result"
    }
   ],
   "source": [
    "new"
   ]
  },
  {
   "cell_type": "code",
   "execution_count": 129,
   "metadata": {},
   "outputs": [
    {
     "name": "stdout",
     "output_type": "stream",
     "text": [
      "ATACA\n",
      "['GATTACA', 'TAGACCA']\n",
      "ATACA\n",
      "AT query 2 0\n",
      "AT GA\n",
      "AT AT\n",
      "AT TT\n",
      "AT TA\n",
      "AT AC\n",
      "AT CA\n",
      "AT TA\n",
      "AT AG\n",
      "AT GA\n",
      "AT AC\n",
      "AT CC\n",
      "AT CA\n",
      "TA query 2 1\n",
      "TA GA\n",
      "TA AT\n",
      "TA TT\n",
      "TA TA\n",
      "TA AC\n",
      "TA CA\n",
      "TA TA\n",
      "TA AG\n",
      "TA GA\n",
      "TA AC\n",
      "TA CC\n",
      "TA CA\n",
      "AC query 2 2\n",
      "AC GA\n",
      "AC AT\n",
      "AC TT\n",
      "AC TA\n",
      "AC AC\n",
      "AC CA\n",
      "AC TA\n",
      "AC AG\n",
      "AC GA\n",
      "AC AC\n",
      "AC CC\n",
      "AC CA\n",
      "CA query 2 3\n",
      "CA GA\n",
      "CA AT\n",
      "CA TT\n",
      "CA TA\n",
      "CA AC\n",
      "CA CA\n",
      "CA TA\n",
      "CA AG\n",
      "CA GA\n",
      "CA AC\n",
      "CA CC\n",
      "CA CA\n",
      "ATACA\n",
      "ATA query 3 0\n",
      "ATA GAT\n",
      "ATA ATT\n",
      "ATA TTA\n",
      "ATA TAC\n",
      "ATA ACA\n",
      "ATA TAG\n",
      "ATA AGA\n",
      "ATA GAC\n",
      "ATA ACC\n",
      "ATA CCA\n",
      "TAC query 3 1\n",
      "TAC GAT\n",
      "TAC ATT\n",
      "TAC TTA\n",
      "TAC TAC\n",
      "TAC ACA\n",
      "TAC TAG\n",
      "TAC AGA\n",
      "TAC GAC\n",
      "TAC ACC\n",
      "TAC CCA\n",
      "ACA query 3 2\n",
      "ACA GAT\n",
      "ACA ATT\n",
      "ACA TTA\n",
      "ACA TAC\n",
      "ACA ACA\n",
      "ACA TAG\n",
      "ACA AGA\n",
      "ACA GAC\n",
      "ACA ACC\n",
      "ACA CCA\n",
      "ATACA\n",
      "ATAC query 4 0\n",
      "ATAC GATT\n",
      "ATAC ATTA\n",
      "ATAC TTAC\n",
      "ATAC TACA\n",
      "ATAC TAGA\n",
      "ATAC AGAC\n",
      "ATAC GACC\n",
      "ATAC ACCA\n",
      "TACA query 4 1\n",
      "TACA GATT\n",
      "TACA ATTA\n",
      "TACA TTAC\n",
      "TACA TACA\n",
      "TACA TAGA\n",
      "TACA AGAC\n",
      "TACA GACC\n",
      "TACA ACCA\n",
      "ATACA\n",
      "ATACA query 5 0\n",
      "ATACA GATTA\n",
      "ATACA ATTAC\n",
      "ATACA TTACA\n",
      "ATACA TAGAC\n",
      "ATACA AGACC\n",
      "ATACA GACCA\n"
     ]
    },
    {
     "data": {
      "text/plain": [
       "{'AT': 1,\n",
       " 'TA': 2,\n",
       " 'AC': 2,\n",
       " 'CA': 2,\n",
       " 'ATA': 0,\n",
       " 'TAC': 1,\n",
       " 'ACA': 1,\n",
       " 'ATAC': 0,\n",
       " 'TACA': 1,\n",
       " 'ATACA': 0}"
      ]
     },
     "execution_count": 129,
     "metadata": {},
     "output_type": "execute_result"
    }
   ],
   "source": [
    "common_motif(dna_seq)"
   ]
  }
 ],
 "metadata": {
  "kernelspec": {
   "display_name": "Python 3",
   "language": "python",
   "name": "python3"
  },
  "language_info": {
   "codemirror_mode": {
    "name": "ipython",
    "version": 3
   },
   "file_extension": ".py",
   "mimetype": "text/x-python",
   "name": "python",
   "nbconvert_exporter": "python",
   "pygments_lexer": "ipython3",
   "version": "3.7.4"
  }
 },
 "nbformat": 4,
 "nbformat_minor": 4
}
