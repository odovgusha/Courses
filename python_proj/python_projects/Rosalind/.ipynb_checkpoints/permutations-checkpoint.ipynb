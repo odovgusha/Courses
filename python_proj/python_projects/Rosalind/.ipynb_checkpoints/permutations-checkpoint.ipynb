{
 "cells": [
  {
   "cell_type": "code",
   "execution_count": 21,
   "metadata": {},
   "outputs": [],
   "source": [
    "import math"
   ]
  },
  {
   "cell_type": "code",
   "execution_count": 29,
   "metadata": {},
   "outputs": [
    {
     "data": {
      "text/plain": [
       "2"
      ]
     },
     "execution_count": 29,
     "metadata": {},
     "output_type": "execute_result"
    }
   ],
   "source": [
    "math.factorial(2)"
   ]
  },
  {
   "cell_type": "code",
   "execution_count": 115,
   "metadata": {},
   "outputs": [],
   "source": [
    "a = 5\n",
    "seq = []\n",
    "for i in range(1,a+1):\n",
    "    seq.append(i)\n",
    "seq_all = []"
   ]
  },
  {
   "cell_type": "code",
   "execution_count": 111,
   "metadata": {},
   "outputs": [
    {
     "name": "stdout",
     "output_type": "stream",
     "text": [
      "[1, 2, 3, 4, 5]\n",
      "[1, 2, 3, 5, 4]\n",
      "[1, 2, 5, 3, 4]\n",
      "[1, 5, 2, 3, 4]\n",
      "[5, 1, 2, 3, 4]\n",
      "[5, 1, 2, 4, 3]\n",
      "[5, 1, 4, 2, 3]\n",
      "[5, 4, 1, 2, 3]\n",
      "[4, 5, 1, 2, 3]\n",
      "[4, 5, 1, 3, 2]\n",
      "[4, 5, 3, 1, 2]\n",
      "[4, 3, 5, 1, 2]\n",
      "[3, 4, 5, 1, 2]\n",
      "[3, 4, 5, 2, 1]\n",
      "[3, 4, 2, 5, 1]\n",
      "[3, 2, 4, 5, 1]\n",
      "[2, 3, 4, 5, 1]\n",
      "[2, 3, 4, 1, 5]\n",
      "[2, 3, 1, 4, 5]\n",
      "[2, 1, 3, 4, 5]\n"
     ]
    },
    {
     "data": {
      "text/plain": [
       "[1, 2, 3, 4, 5]"
      ]
     },
     "execution_count": 111,
     "metadata": {},
     "output_type": "execute_result"
    }
   ],
   "source": [
    "permute(seq,seq_all)"
   ]
  },
  {
   "cell_type": "code",
   "execution_count": 119,
   "metadata": {},
   "outputs": [
    {
     "data": {
      "text/plain": [
       "[1, 2]"
      ]
     },
     "execution_count": 119,
     "metadata": {},
     "output_type": "execute_result"
    }
   ],
   "source": [
    "seq[:len(seq)-3]"
   ]
  },
  {
   "cell_type": "code",
   "execution_count": 120,
   "metadata": {},
   "outputs": [
    {
     "data": {
      "text/plain": [
       "[3, 4, 5]"
      ]
     },
     "execution_count": 120,
     "metadata": {},
     "output_type": "execute_result"
    }
   ],
   "source": [
    "seq[len(seq)-3:]"
   ]
  },
  {
   "cell_type": "code",
   "execution_count": 133,
   "metadata": {},
   "outputs": [],
   "source": [
    " sub_seq_1 = seq[:len(seq)-3]"
   ]
  },
  {
   "cell_type": "code",
   "execution_count": 181,
   "metadata": {},
   "outputs": [
    {
     "name": "stdout",
     "output_type": "stream",
     "text": [
      "[3, 4, 5]\n",
      "[3, 5, 4]\n",
      "[5, 3, 4]\n",
      "[5, 4, 3]\n",
      "[4, 5, 3]\n",
      "[4, 3, 5]\n",
      "[2, 1]\n",
      "[3, 4, 5]\n",
      "[3, 5, 4]\n",
      "[5, 3, 4]\n",
      "[5, 4, 3]\n",
      "[4, 5, 3]\n",
      "[4, 3, 5]\n",
      "[1, 2]\n"
     ]
    },
    {
     "data": {
      "text/plain": [
       "[[1, 2, 3, 4, 5],\n",
       " [1, 2, 3, 4, 5],\n",
       " [1, 2, 3, 4, 5],\n",
       " [1, 2, 3, 4, 5],\n",
       " [1, 2, 3, 4, 5],\n",
       " [1, 2, 3, 4, 5],\n",
       " [2, 1, 3, 4, 5],\n",
       " [2, 1, 3, 4, 5],\n",
       " [2, 1, 3, 4, 5],\n",
       " [2, 1, 3, 4, 5],\n",
       " [2, 1, 3, 4, 5],\n",
       " [2, 1, 3, 4, 5]]"
      ]
     },
     "execution_count": 181,
     "metadata": {},
     "output_type": "execute_result"
    }
   ],
   "source": [
    "permute_rec(seq)"
   ]
  },
  {
   "cell_type": "code",
   "execution_count": 180,
   "metadata": {},
   "outputs": [],
   "source": [
    "def permute_rec(seq):\n",
    "    seq_all = []\n",
    "    sub_seq_1 = seq[:len(seq)-3]\n",
    "    sub_seq_2 = seq[len(seq)-3:]\n",
    "    j = len(sub_seq_1) * (len(sub_seq_1)-1)\n",
    "    #i = len(sub_seq_1)-1\n",
    "    \n",
    "    while j > 0:\n",
    "        #print(seq)\n",
    "        #if i == len(seq)-len(seq):\n",
    "        #    i = len(seq)-1\n",
    "        for l1 in permute(sub_seq_2):\n",
    "            #print(sub_seq_1.extend(l1))\n",
    "            seq_all.append(sub_seq_1+l1)\n",
    "            #print(sub_seq_1.extend(l1))\n",
    "        sub_seq_1[1],sub_seq_1[0] = sub_seq_1[0],sub_seq_1[1]\n",
    "        print(sub_seq_1)\n",
    "        \n",
    "        #seq_all.append(seq)\n",
    "        j-=1\n",
    "        #i-=1\n",
    "    return(seq_all)"
   ]
  },
  {
   "cell_type": "code",
   "execution_count": 193,
   "metadata": {},
   "outputs": [
    {
     "data": {
      "text/plain": [
       "[1, 2, 3, 4, 5]"
      ]
     },
     "execution_count": 193,
     "metadata": {},
     "output_type": "execute_result"
    }
   ],
   "source": []
  },
  {
   "cell_type": "code",
   "execution_count": 195,
   "metadata": {},
   "outputs": [],
   "source": [
    "\n",
    "def permute(seq):\n",
    "    seq_perm=[]\n",
    "    j = len(seq) * (len(seq)-1)\n",
    "    i = len(seq)-1\n",
    "    while j > 0:\n",
    "        #print(seq)\n",
    "        if i == len(seq)-len(seq):\n",
    "            i = len(seq)-1\n",
    "        seq[i],seq[i-1] = seq[i-1],seq[i]\n",
    "        seq_perm.append(seq)\n",
    "        print(seq_perm)\n",
    "        j-=1\n",
    "        i-=1\n",
    "    return(seq_perm)\n"
   ]
  },
  {
   "cell_type": "code",
   "execution_count": 196,
   "metadata": {},
   "outputs": [
    {
     "name": "stdout",
     "output_type": "stream",
     "text": [
      "[[1, 3, 2]]\n",
      "[[3, 1, 2], [3, 1, 2]]\n",
      "[[3, 2, 1], [3, 2, 1], [3, 2, 1]]\n",
      "[[2, 3, 1], [2, 3, 1], [2, 3, 1], [2, 3, 1]]\n",
      "[[2, 1, 3], [2, 1, 3], [2, 1, 3], [2, 1, 3], [2, 1, 3]]\n",
      "[[1, 2, 3], [1, 2, 3], [1, 2, 3], [1, 2, 3], [1, 2, 3], [1, 2, 3]]\n"
     ]
    },
    {
     "data": {
      "text/plain": [
       "[[1, 2, 3], [1, 2, 3], [1, 2, 3], [1, 2, 3], [1, 2, 3], [1, 2, 3]]"
      ]
     },
     "execution_count": 196,
     "metadata": {},
     "output_type": "execute_result"
    }
   ],
   "source": [
    "permute([1,2,3])"
   ]
  },
  {
   "cell_type": "code",
   "execution_count": 174,
   "metadata": {},
   "outputs": [],
   "source": [
    "a = 5\n",
    "seq = []\n",
    "for i in range(1,a+1):\n",
    "    seq.append(i)\n",
    "seq_all = []"
   ]
  },
  {
   "cell_type": "code",
   "execution_count": 175,
   "metadata": {},
   "outputs": [],
   "source": [
    "sub_seq_1 = seq[:len(seq)-3]\n",
    "sub_seq_2 = seq[len(seq)-3:]"
   ]
  },
  {
   "cell_type": "code",
   "execution_count": null,
   "metadata": {},
   "outputs": [],
   "source": [
    "sub_seq_1"
   ]
  },
  {
   "cell_type": "code",
   "execution_count": 173,
   "metadata": {},
   "outputs": [],
   "source": [
    "sub_seq_1.extend(l1)"
   ]
  },
  {
   "cell_type": "code",
   "execution_count": 177,
   "metadata": {},
   "outputs": [
    {
     "name": "stdout",
     "output_type": "stream",
     "text": [
      "[3, 4, 5]\n",
      "[3, 5, 4]\n",
      "[5, 3, 4]\n",
      "[5, 4, 3]\n",
      "[4, 5, 3]\n",
      "[4, 3, 5]\n",
      "[1, 2, 3, 4, 5]\n",
      "[1, 2, 3, 4, 5]\n",
      "[1, 2, 3, 4, 5]\n",
      "[1, 2, 3, 4, 5]\n",
      "[1, 2, 3, 4, 5]\n",
      "[1, 2, 3, 4, 5]\n"
     ]
    }
   ],
   "source": [
    "seq_all = []\n",
    "for l1 in permute(sub_seq_2):\n",
    "            print(sub_seq_1+l1)\n",
    "            #seq_all.append(sub_seq_1,(l1))\n",
    "            #print(sub_seq_1.extend(l1))"
   ]
  },
  {
   "cell_type": "code",
   "execution_count": 172,
   "metadata": {},
   "outputs": [
    {
     "data": {
      "text/plain": [
       "[None, None, None, None, None, None]"
      ]
     },
     "execution_count": 172,
     "metadata": {},
     "output_type": "execute_result"
    }
   ],
   "source": [
    "seq_all"
   ]
  },
  {
   "cell_type": "code",
   "execution_count": 127,
   "metadata": {},
   "outputs": [
    {
     "name": "stdout",
     "output_type": "stream",
     "text": [
      "[3, 4, 5]\n",
      "[3, 5, 4]\n",
      "[5, 3, 4]\n",
      "[5, 4, 3]\n",
      "[4, 5, 3]\n",
      "[4, 3, 5]\n"
     ]
    }
   ],
   "source": [
    "x = permute(seq[len(seq)-3:])"
   ]
  },
  {
   "cell_type": "code",
   "execution_count": 130,
   "metadata": {},
   "outputs": [
    {
     "name": "stdout",
     "output_type": "stream",
     "text": [
      "[3, 4, 5]\n",
      "[3, 4, 5]\n",
      "[3, 4, 5]\n",
      "[3, 4, 5]\n",
      "[3, 4, 5]\n",
      "[3, 4, 5]\n"
     ]
    }
   ],
   "source": [
    "for l1 in permute(seq[len(seq)-3:]):\n",
    "    print(l1)"
   ]
  },
  {
   "cell_type": "code",
   "execution_count": 124,
   "metadata": {},
   "outputs": [
    {
     "data": {
      "text/plain": [
       "[3, 4, 5]"
      ]
     },
     "execution_count": 124,
     "metadata": {},
     "output_type": "execute_result"
    }
   ],
   "source": [
    "x[1]"
   ]
  },
  {
   "cell_type": "code",
   "execution_count": 31,
   "metadata": {},
   "outputs": [
    {
     "ename": "IndentationError",
     "evalue": "unexpected indent (<ipython-input-31-ce4bf3881086>, line 10)",
     "output_type": "error",
     "traceback": [
      "\u001b[0;36m  File \u001b[0;32m\"<ipython-input-31-ce4bf3881086>\"\u001b[0;36m, line \u001b[0;32m10\u001b[0m\n\u001b[0;31m    seq[i],seq[i-1] = seq[i-1],seq[i]\u001b[0m\n\u001b[0m    ^\u001b[0m\n\u001b[0;31mIndentationError\u001b[0m\u001b[0;31m:\u001b[0m unexpected indent\n"
     ]
    }
   ],
   "source": [
    "seq_all = []\n",
    "for i in range(0,len(seq)):\n",
    "    \n",
    "    j = 2\n",
    "    while j > 0:\n",
    "        i = len(seq)-1\n",
    "        \n",
    "        #for i in reversed(range(len(seq)-2,len(seq))):\n",
    "        \n",
    "            seq[i],seq[i-1] = seq[i-1],seq[i]\n",
    "            print(seq)\n",
    "            seq_all.append(seq)\n",
    "            j-=1\n",
    "    seq[len(seq)-3],seq[len(seq)-4] = seq[len(seq)-4],seq[len(seq)-3]\n",
    "        \n",
    "        "
   ]
  },
  {
   "cell_type": "code",
   "execution_count": 70,
   "metadata": {},
   "outputs": [
    {
     "data": {
      "text/plain": [
       "[1, 2, 3, 4]"
      ]
     },
     "execution_count": 70,
     "metadata": {},
     "output_type": "execute_result"
    }
   ],
   "source": [
    "a = 4\n",
    "seq = []\n",
    "for i in range(1,a+1):\n",
    "    seq.append(i)\n",
    "seq  "
   ]
  },
  {
   "cell_type": "code",
   "execution_count": 65,
   "metadata": {},
   "outputs": [
    {
     "name": "stdout",
     "output_type": "stream",
     "text": [
      "3\n",
      "2\n"
     ]
    }
   ],
   "source": [
    "for i in reversed(range(len(seq)-2,len(seq))):\n",
    "    print(i)"
   ]
  },
  {
   "cell_type": "code",
   "execution_count": 71,
   "metadata": {},
   "outputs": [
    {
     "name": "stdout",
     "output_type": "stream",
     "text": [
      "[1, 2, 4, 3]\n"
     ]
    }
   ],
   "source": [
    "#for i in reversed(range(len(seq)-2,len(seq))):\n",
    "seq[len(seq)-1],seq[len(seq)-2] = seq[len(seq)-2],seq[len(seq)-1]\n",
    "print(seq)\n",
    "seq_all.append(seq)"
   ]
  },
  {
   "cell_type": "code",
   "execution_count": 67,
   "metadata": {},
   "outputs": [
    {
     "name": "stdout",
     "output_type": "stream",
     "text": [
      "[1, 2, 4, 3]\n",
      "[1, 4, 2, 3]\n"
     ]
    }
   ],
   "source": [
    "for i in reversed(range(len(seq)-2,len(seq))):\n",
    "    seq[i],seq[i-1] = seq[i-1],seq[i]\n",
    "    print(seq)\n",
    "    seq_all.append(seq)"
   ]
  },
  {
   "cell_type": "code",
   "execution_count": 12,
   "metadata": {},
   "outputs": [
    {
     "data": {
      "text/plain": [
       "[[1, 2, 3, 4],\n",
       " [1, 2, 3, 4],\n",
       " [1, 2, 3, 4],\n",
       " [1, 2, 3, 4],\n",
       " [1, 2, 3, 4],\n",
       " [1, 2, 3, 4],\n",
       " [1, 2, 3, 4],\n",
       " [1, 2, 3, 4],\n",
       " [1, 2, 3, 4],\n",
       " [1, 2, 3, 4],\n",
       " [1, 2, 3, 4],\n",
       " [1, 2, 3, 4],\n",
       " [1, 2, 3, 4],\n",
       " [1, 2, 3, 4],\n",
       " [1, 2, 3, 4],\n",
       " [1, 2, 3, 4],\n",
       " [1, 2, 3, 4],\n",
       " [1, 2, 3, 4],\n",
       " [1, 2, 3, 4],\n",
       " [1, 2, 3, 4],\n",
       " [1, 2, 3, 4],\n",
       " [1, 2, 3, 4],\n",
       " [1, 2, 3, 4],\n",
       " [1, 2, 3, 4]]"
      ]
     },
     "execution_count": 12,
     "metadata": {},
     "output_type": "execute_result"
    }
   ],
   "source": [
    "seq_all"
   ]
  },
  {
   "cell_type": "code",
   "execution_count": null,
   "metadata": {},
   "outputs": [],
   "source": [
    "for i in range(a,a-3):\n",
    "    seq[]"
   ]
  },
  {
   "cell_type": "code",
   "execution_count": null,
   "metadata": {},
   "outputs": [],
   "source": []
  },
  {
   "cell_type": "code",
   "execution_count": null,
   "metadata": {},
   "outputs": [],
   "source": [
    "for i in range"
   ]
  }
 ],
 "metadata": {
  "kernelspec": {
   "display_name": "Python 3",
   "language": "python",
   "name": "python3"
  },
  "language_info": {
   "codemirror_mode": {
    "name": "ipython",
    "version": 3
   },
   "file_extension": ".py",
   "mimetype": "text/x-python",
   "name": "python",
   "nbconvert_exporter": "python",
   "pygments_lexer": "ipython3",
   "version": "3.8.2"
  }
 },
 "nbformat": 4,
 "nbformat_minor": 4
}
