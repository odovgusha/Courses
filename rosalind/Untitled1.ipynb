{
 "cells": [
  {
   "cell_type": "code",
   "execution_count": 2,
   "metadata": {},
   "outputs": [],
   "source": [
    "a = 4"
   ]
  },
  {
   "cell_type": "code",
   "execution_count": 3,
   "metadata": {},
   "outputs": [],
   "source": [
    "seq = []\n",
    "for i in range(1,a+1):\n",
    "    seq.append(i)\n",
    "   "
   ]
  },
  {
   "cell_type": "code",
   "execution_count": 40,
   "metadata": {},
   "outputs": [
    {
     "name": "stdout",
     "output_type": "stream",
     "text": [
      "3\n",
      "2\n"
     ]
    }
   ],
   "source": [
    "for i in reversed(range(2,4)):\n",
    "    print(i)"
   ]
  },
  {
   "cell_type": "code",
   "execution_count": 43,
   "metadata": {},
   "outputs": [
    {
     "data": {
      "text/plain": [
       "2"
      ]
     },
     "execution_count": 43,
     "metadata": {},
     "output_type": "execute_result"
    }
   ],
   "source": [
    "len(seq)-2"
   ]
  },
  {
   "cell_type": "code",
   "execution_count": 46,
   "metadata": {},
   "outputs": [
    {
     "data": {
      "text/plain": [
       "[1, 2, 3, 4]"
      ]
     },
     "execution_count": 46,
     "metadata": {},
     "output_type": "execute_result"
    }
   ],
   "source": [
    "seq = []\n",
    "for i in range(1,a+1):\n",
    "    seq.append(i)\n",
    "seq"
   ]
  },
  {
   "cell_type": "code",
   "execution_count": 57,
   "metadata": {},
   "outputs": [
    {
     "data": {
      "text/plain": [
       "5040"
      ]
     },
     "execution_count": 57,
     "metadata": {},
     "output_type": "execute_result"
    }
   ],
   "source": [
    "7*6*5*4*6"
   ]
  },
  {
   "cell_type": "code",
   "execution_count": 55,
   "metadata": {},
   "outputs": [
    {
     "data": {
      "text/plain": [
       "720"
      ]
     },
     "execution_count": 55,
     "metadata": {},
     "output_type": "execute_result"
    }
   ],
   "source": [
    "120*6"
   ]
  },
  {
   "cell_type": "code",
   "execution_count": 50,
   "metadata": {},
   "outputs": [
    {
     "name": "stdout",
     "output_type": "stream",
     "text": [
      "3\n",
      "2\n",
      "1\n"
     ]
    }
   ],
   "source": [
    "for i in reversed(range(1,4)):\n",
    "    print(i)"
   ]
  },
  {
   "cell_type": "code",
   "execution_count": 51,
   "metadata": {},
   "outputs": [
    {
     "name": "stdout",
     "output_type": "stream",
     "text": [
      "0\n",
      "1\n",
      "2\n",
      "3\n"
     ]
    }
   ],
   "source": [
    "while d > 0:\n",
    "    "
   ]
  },
  {
   "cell_type": "code",
   "execution_count": 47,
   "metadata": {},
   "outputs": [
    {
     "name": "stdout",
     "output_type": "stream",
     "text": [
      "[1, 2, 4, 3]\n",
      "[1, 4, 2, 3]\n",
      "[1, 4, 3, 2]\n",
      "[1, 3, 4, 2]\n",
      "[1, 3, 2, 4]\n",
      "[1, 2, 3, 4]\n"
     ]
    }
   ],
   "source": [
    "seq_all = []\n",
    "for i in range(0,4):\n",
    "    \n",
    "j = 5\n",
    "while j > 0:\n",
    "    for i in reversed(range(len(seq)-2,len(seq))):\n",
    "        \n",
    "        seq[i],seq[i-1] = seq[i-1],seq[i]\n",
    "        print(seq)\n",
    "        seq_all.append(seq)\n",
    "        j-=1\n",
    "        "
   ]
  },
  {
   "cell_type": "code",
   "execution_count": 10,
   "metadata": {},
   "outputs": [
    {
     "name": "stdout",
     "output_type": "stream",
     "text": [
      "1\n",
      "2\n",
      "3\n"
     ]
    }
   ],
   "source": [
    "for i in range(a,a-3):\n",
    "    seq[]"
   ]
  },
  {
   "cell_type": "code",
   "execution_count": null,
   "metadata": {},
   "outputs": [],
   "source": [
    "1 2 3 4\n",
    "1 2 4 3\n",
    "1 4 2 3\n",
    "4 1 2 3\n",
    "4 1 3 2\n",
    "4 3 1 2\n",
    "3 4 1 2\n",
    "3 4 2 1\n",
    "3 2 4 1\n",
    "2 3 4 1\n",
    "2 3 1 4\n",
    "2 1 3 4\n",
    "\n",
    "4 3 2 1\n",
    "\n",
    "1 3 2 4\n",
    "3 1 2 4\n",
    "3 2 1 4\n",
    "\n",
    "4 2 3 1\n",
    "2 4 3 1\n",
    "\n",
    "1 2 3\n",
    "1 3 2\n",
    "3 1 2\n",
    "3 2 1\n",
    "2 3 1\n",
    "3 2 1\n",
    "\n",
    "1 2 3 4\n",
    "1 2 4 3\n",
    "1 4 2 3\n",
    "4 1 2 3\n",
    "4 1 3 2\n",
    "4 3 1 2\n",
    "3 4 1 2\n",
    "3 4 2 1\n",
    "3 2 4 1\n",
    "2 3 4 1\n",
    "2 3 1 4\n",
    "2 1 3 4\n",
    "1 2 3 4\n",
    "\n",
    "\n",
    "1 2 3\n",
    "\n",
    "\n",
    "\n",
    "\n",
    "1 3 2\n",
    "3 1 2\n",
    "\n",
    "\n",
    "3 2 1\n",
    "3 1 2\n",
    "\n",
    "2 3 1\n",
    "2 3 2\n",
    "\n",
    "3 2\n",
    "\n",
    "\n",
    "\n",
    "1 2 3 4\n",
    "1 3 2 4\n",
    "1 3 4 2\n",
    "1 4 3 2\n",
    "1 4 2 3\n",
    "1 2 4 3\n",
    "\n",
    "1 2 3 4\n",
    "1 3 2 4\n",
    "1 3 4 3\n",
    "1 2 4 3\n",
    "\n",
    "1 2 3 4\n",
    "1 2 4 3\n",
    "1 4 2 3\n",
    "1 4 3 2\n",
    "1 3 4 2\n",
    "1 3 2 4\n",
    "\n",
    "\n",
    "1 2 3 4\n",
    "1 2 4 3\n",
    "1 4 2 3\n",
    "4 1 2 3\n",
    "4 1 3 2\n",
    "4 3 1 2\n",
    "3 4 1 2\n",
    "3 4 2 1\n",
    "3 2 4 1\n",
    "2 3 4 1\n",
    "2 3 1 4\n",
    "2 1 3 4\n",
    "\n",
    "1 2 3 4\n",
    "\n",
    "1 2 3 4 5\n",
    "1 2 3 4 5\n",
    "\n",
    "\n",
    "\n",
    "\n",
    "\n",
    "\n",
    "2 1 3 4\n",
    "2 3 1 4\n",
    "2 3 4 1\n",
    "2 4 3 1\n",
    "2 4 1 3\n",
    "2 1 4 3\n",
    "\n",
    "3 2 1 4\n",
    "3 1 2 4\n",
    "3 1 4 2\n",
    "3 4 1 2\n",
    "3 4 2 1\n",
    "3 2 4 1\n",
    "\n",
    "\n",
    "1 2 3 4 5\n",
    "1 3 2 4 5\n",
    "1 3 4 2 5\n",
    "1 3 4 5 2\n",
    "1 3 5 4 2\n",
    "1 5 3 4 2\n",
    "1 5 3 2 4\n",
    "1 5 2 3 4\n",
    "1 2 5 3 4\n",
    "1 2 5 4 3\n",
    "1 2 4 5 3\n",
    "1 4 2 5 3\n",
    "1 4 2 3 5\n",
    "1 4 3 2 5\n",
    "\n",
    "\n",
    "\n",
    "\n",
    "\n",
    "1 2 4 3\n",
    "1 2 3 4\n",
    "\n",
    "1 3 2 4\n",
    "1 3 4 2\n",
    "\n",
    "2 1 3 4\n",
    "2 1 4 3\n",
    "\n",
    "2 4 1 3\n",
    "2 \n",
    "\n",
    "1 4 3 2\n",
    "1 3 2 4\n",
    "\n",
    "\n",
    "1 3 2 4\n",
    "1 3 4 2\n",
    "\n",
    "2 1 3 4\n",
    "2 1 4 3\n",
    "2 4 1 3\n",
    "2 4 3 1\n",
    "2 3 4 1\n",
    "2 3 1 4\n",
    "\n",
    "\n",
    "\n",
    "\n",
    "\n",
    "\n",
    "\n",
    "\n",
    "\n"
   ]
  }
 ],
 "metadata": {
  "kernelspec": {
   "display_name": "Python 3",
   "language": "python",
   "name": "python3"
  },
  "language_info": {
   "codemirror_mode": {
    "name": "ipython",
    "version": 3
   },
   "file_extension": ".py",
   "mimetype": "text/x-python",
   "name": "python",
   "nbconvert_exporter": "python",
   "pygments_lexer": "ipython3",
   "version": "3.8.2"
  }
 },
 "nbformat": 4,
 "nbformat_minor": 4
}
