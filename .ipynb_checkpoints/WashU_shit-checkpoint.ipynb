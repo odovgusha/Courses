{
 "cells": [
  {
   "cell_type": "code",
   "execution_count": 1,
   "metadata": {},
   "outputs": [],
   "source": [
    "import json\n",
    "import os\n",
    "import re"
   ]
  },
  {
   "cell_type": "code",
   "execution_count": 40,
   "metadata": {},
   "outputs": [],
   "source": [
    "track_type = \"bed\""
   ]
  },
  {
   "cell_type": "code",
   "execution_count": 55,
   "metadata": {},
   "outputs": [
    {
     "name": "stdout",
     "output_type": "stream",
     "text": [
      "clusters_HisC_time_down\n",
      "clusters_HisC_time_up\n",
      "clusters_Wm_time_down\n",
      "clusters_Wm_time_up\n"
     ]
    }
   ],
   "source": [
    "sep = \".\" + track_type\n",
    "sample_names = list()\n",
    "full_file_names = list() \n",
    "for file in os.listdir(\"up_down_clusters/\"):\n",
    "    if file.endswith(\".bed.gz\"):\n",
    "        #print(os.path.join( file.split(sep, 1)[0]))\n",
    "        print(file.split(sep, 1)[0])\n",
    "        sample_names.append(file.split(sep, 1)[0])\n",
    "        full_file_names.append(file)"
   ]
  },
  {
   "cell_type": "code",
   "execution_count": 56,
   "metadata": {},
   "outputs": [
    {
     "data": {
      "text/plain": [
       "['clusters_HisC_time_down',\n",
       " 'clusters_HisC_time_up',\n",
       " 'clusters_Wm_time_down',\n",
       " 'clusters_Wm_time_up']"
      ]
     },
     "execution_count": 56,
     "metadata": {},
     "output_type": "execute_result"
    }
   ],
   "source": [
    "sample_names"
   ]
  },
  {
   "cell_type": "code",
   "execution_count": 57,
   "metadata": {},
   "outputs": [
    {
     "data": {
      "text/plain": [
       "['clusters_HisC_time_down.bed.gz',\n",
       " 'clusters_HisC_time_up.bed.gz',\n",
       " 'clusters_Wm_time_down.bed.gz',\n",
       " 'clusters_Wm_time_up.bed.gz']"
      ]
     },
     "execution_count": 57,
     "metadata": {},
     "output_type": "execute_result"
    }
   ],
   "source": [
    "full_file_names"
   ]
  },
  {
   "cell_type": "code",
   "execution_count": 61,
   "metadata": {},
   "outputs": [],
   "source": [
    "final_filename = 'clusters_up_down'\n",
    "url_exp = \"https://ipscspublic.s3.eu-central-1.amazonaws.com/Dominik_dm6/bed_clusters\"\n",
    "track_type = track_type\n",
    "if track_type == \"bw\":\n",
    "    track_type = \"bigwig\"\n",
    "    "
   ]
  },
  {
   "cell_type": "code",
   "execution_count": 62,
   "metadata": {},
   "outputs": [],
   "source": [
    "json_data_list = []\n",
    "for i in range(0,len(sample_names)):\n",
    "    track = {\"type\": track_type, \"name\": sample_names[i],\"url\": os.path.join(url_exp,full_file_names[i]),\"options\": {\"color\": \"blue\"}}\n",
    "    #track_dict = json.dumps(track)\n",
    "    json_data_list.append(track)\n",
    "\n",
    "    "
   ]
  },
  {
   "cell_type": "code",
   "execution_count": 63,
   "metadata": {},
   "outputs": [
    {
     "data": {
      "text/plain": [
       "[{'type': 'bed',\n",
       "  'name': 'clusters_HisC_time_down',\n",
       "  'url': 'https://ipscspublic.s3.eu-central-1.amazonaws.com/Dominik_dm6/bed_clusters/clusters_HisC_time_down.bed.gz',\n",
       "  'options': {'color': 'blue'}},\n",
       " {'type': 'bed',\n",
       "  'name': 'clusters_HisC_time_up',\n",
       "  'url': 'https://ipscspublic.s3.eu-central-1.amazonaws.com/Dominik_dm6/bed_clusters/clusters_HisC_time_up.bed.gz',\n",
       "  'options': {'color': 'blue'}},\n",
       " {'type': 'bed',\n",
       "  'name': 'clusters_Wm_time_down',\n",
       "  'url': 'https://ipscspublic.s3.eu-central-1.amazonaws.com/Dominik_dm6/bed_clusters/clusters_Wm_time_down.bed.gz',\n",
       "  'options': {'color': 'blue'}},\n",
       " {'type': 'bed',\n",
       "  'name': 'clusters_Wm_time_up',\n",
       "  'url': 'https://ipscspublic.s3.eu-central-1.amazonaws.com/Dominik_dm6/bed_clusters/clusters_Wm_time_up.bed.gz',\n",
       "  'options': {'color': 'blue'}}]"
      ]
     },
     "execution_count": 63,
     "metadata": {},
     "output_type": "execute_result"
    }
   ],
   "source": [
    "json_data_list"
   ]
  },
  {
   "cell_type": "code",
   "execution_count": 48,
   "metadata": {},
   "outputs": [],
   "source": []
  },
  {
   "cell_type": "code",
   "execution_count": 64,
   "metadata": {},
   "outputs": [],
   "source": [
    "with open(final_filename +'.json', 'w') as outfile:\n",
    "    json.dump(json_data_list, outfile, indent=2)"
   ]
  },
  {
   "cell_type": "code",
   "execution_count": 65,
   "metadata": {},
   "outputs": [
    {
     "data": {
      "text/plain": [
       "[{'type': 'bed',\n",
       "  'name': 'clusters_HisC_time_down',\n",
       "  'url': 'https://ipscspublic.s3.eu-central-1.amazonaws.com/Dominik_dm6/bed_clusters/clusters_HisC_time_down.bed.gz',\n",
       "  'options': {'color': 'blue'}},\n",
       " {'type': 'bed',\n",
       "  'name': 'clusters_HisC_time_up',\n",
       "  'url': 'https://ipscspublic.s3.eu-central-1.amazonaws.com/Dominik_dm6/bed_clusters/clusters_HisC_time_up.bed.gz',\n",
       "  'options': {'color': 'blue'}},\n",
       " {'type': 'bed',\n",
       "  'name': 'clusters_Wm_time_down',\n",
       "  'url': 'https://ipscspublic.s3.eu-central-1.amazonaws.com/Dominik_dm6/bed_clusters/clusters_Wm_time_down.bed.gz',\n",
       "  'options': {'color': 'blue'}},\n",
       " {'type': 'bed',\n",
       "  'name': 'clusters_Wm_time_up',\n",
       "  'url': 'https://ipscspublic.s3.eu-central-1.amazonaws.com/Dominik_dm6/bed_clusters/clusters_Wm_time_up.bed.gz',\n",
       "  'options': {'color': 'blue'}}]"
      ]
     },
     "execution_count": 65,
     "metadata": {},
     "output_type": "execute_result"
    }
   ],
   "source": [
    "json_data_list "
   ]
  },
  {
   "cell_type": "code",
   "execution_count": 43,
   "metadata": {},
   "outputs": [
    {
     "data": {
      "text/plain": [
       "'{\"type\": \"bed\", \"name\": \"w-7h\", \"url\": \"https://ipscspublic.s3.eu-central-1.amazonaws.com/atac_10s_lf/w-7h_merged.bw\", \"options\": {\"color\": \"blue\"}}'"
      ]
     },
     "execution_count": 43,
     "metadata": {},
     "output_type": "execute_result"
    }
   ],
   "source": [
    "track_dict"
   ]
  },
  {
   "cell_type": "code",
   "execution_count": 18,
   "metadata": {},
   "outputs": [],
   "source": [
    "#person = '{\"type\": \"Bob\", \"name\": \"diff_peaks_10s\",\"url\": \"https://ipscspublic.s3.eu-central-1.amazonaws.com/atac_10s_lf/ANOVA_atac_not_in_all.bed.gz\",\"options\": {\"color\": \"blue\"}}'\n",
    "person = {\"type\": \"Bob\", \"name\": \"diff_peaks_10s\",\"url\": \"https://ipscspublic.s3.eu-central-1.amazonaws.com/atac_10s_lf/ANOVA_atac_not_in_all.bed.gz\",\"options\": {\"color\": \"blue\"}}\n",
    "person_dict = json.dumps(person)"
   ]
  },
  {
   "cell_type": "code",
   "execution_count": 19,
   "metadata": {},
   "outputs": [
    {
     "data": {
      "text/plain": [
       "'{\"type\": \"Bob\", \"name\": \"diff_peaks_10s\", \"url\": \"https://ipscspublic.s3.eu-central-1.amazonaws.com/atac_10s_lf/ANOVA_atac_not_in_all.bed.gz\", \"options\": {\"color\": \"blue\"}}'"
      ]
     },
     "execution_count": 19,
     "metadata": {},
     "output_type": "execute_result"
    }
   ],
   "source": [
    "person_dict"
   ]
  },
  {
   "cell_type": "code",
   "execution_count": 16,
   "metadata": {},
   "outputs": [
    {
     "data": {
      "text/plain": [
       "str"
      ]
     },
     "execution_count": 16,
     "metadata": {},
     "output_type": "execute_result"
    }
   ],
   "source": [
    "type(person)"
   ]
  },
  {
   "cell_type": "code",
   "execution_count": 13,
   "metadata": {},
   "outputs": [
    {
     "data": {
      "text/plain": [
       "{'type': 'Bob',\n",
       " 'name': 'diff_peaks_10s',\n",
       " 'url': 'https://ipscspublic.s3.eu-central-1.amazonaws.com/atac_10s_lf/ANOVA_atac_not_in_all.bed.gz',\n",
       " 'options': {'color': 'blue'}}"
      ]
     },
     "execution_count": 13,
     "metadata": {},
     "output_type": "execute_result"
    }
   ],
   "source": [
    "person_dict"
   ]
  }
 ],
 "metadata": {
  "kernelspec": {
   "display_name": "Python 3",
   "language": "python",
   "name": "python3"
  },
  "language_info": {
   "codemirror_mode": {
    "name": "ipython",
    "version": 3
   },
   "file_extension": ".py",
   "mimetype": "text/x-python",
   "name": "python",
   "nbconvert_exporter": "python",
   "pygments_lexer": "ipython3",
   "version": "3.8.2"
  }
 },
 "nbformat": 4,
 "nbformat_minor": 4
}
